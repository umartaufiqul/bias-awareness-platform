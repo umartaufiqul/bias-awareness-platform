{
 "cells": [
  {
   "cell_type": "markdown",
   "metadata": {},
   "source": [
    "# CS492 Assignment #1: [ Project Title ]\n",
    "\n",
    "## Objective\n",
    "\n",
    "Social Network Service such as Twitter needs contents moderation. This assignment is around that. Specifically, students need to perform the following :\n",
    "\n",
    "* Understand there's a bias in the classification result\n",
    "* Implement measures to compute the biasness\n",
    "* Implement debiasing techniques on data side and post processing side\n",
    "* Discuss isseus around the bias\n",
    "\n",
    "\n",
    " This notebook provides (1) how to build the classifier and (2) skeleton codes for implementing the measurement and debiasing techniques, so students need to fill in. (Ideally,) the result of student coding is automatically synchronized with the visualization: once you update your code for measuring the bias, the results are going to be presented in the visualization tab as well so that you can easily see the improvement. Note that this is for better visualization, not for grading. The objective of this assignment is not optimizing the biasness but do the implementation and discuss around it. More investigation on the code is highly encouraged."
   ]
  },
  {
   "cell_type": "markdown",
   "metadata": {},
   "source": [
    "# How to build a classifier?\n",
    "\n",
    "In this assignment, we are going to build the classifier that classifies whether a tweet needs to be moderated. Especially, we are going to use supervised learning for building the classifier. To do that, we are going to follow the procedure below:\n",
    "\n",
    "    1. Import dataset\n",
    "    2. Preprocess the dataset    -- Debiasing technique is needed here\n",
    "    3. Train the model (includes post-processing mechanism).    -- Debiasing technique is needed here\n",
    "    4. Evaluate the model\n",
    "    5. See the classification result with totally new tweets\n",
    "        5-1. Import dataset\n",
    "        5-2. Predict\n",
    "        5-3. See the result\n",
    "    \n",
    "From now, we're going to go through each step deeply."
   ]
  },
  {
   "cell_type": "markdown",
   "metadata": {},
   "source": [
    "## 1. Import dataset"
   ]
  },
  {
   "cell_type": "markdown",
   "metadata": {},
   "source": [
    "We first import the dataset. The original dataset is .csv, and we're going to load the data and do formatting. Here, formatting means that the label column name should be \"class\", and tweet column name should be \"tweet\""
   ]
  },
  {
   "cell_type": "code",
   "execution_count": 1,
   "metadata": {},
   "outputs": [
    {
     "data": {
      "text/html": [
       "<div>\n",
       "<style scoped>\n",
       "    .dataframe tbody tr th:only-of-type {\n",
       "        vertical-align: middle;\n",
       "    }\n",
       "\n",
       "    .dataframe tbody tr th {\n",
       "        vertical-align: top;\n",
       "    }\n",
       "\n",
       "    .dataframe thead th {\n",
       "        text-align: right;\n",
       "    }\n",
       "</style>\n",
       "<table border=\"1\" class=\"dataframe\">\n",
       "  <thead>\n",
       "    <tr style=\"text-align: right;\">\n",
       "      <th></th>\n",
       "      <th>class</th>\n",
       "      <th>tweet</th>\n",
       "    </tr>\n",
       "  </thead>\n",
       "  <tbody>\n",
       "    <tr>\n",
       "      <th>0</th>\n",
       "      <td>2</td>\n",
       "      <td>!!! RT @mayasolovely: As a woman you shouldn't...</td>\n",
       "    </tr>\n",
       "    <tr>\n",
       "      <th>1</th>\n",
       "      <td>1</td>\n",
       "      <td>!!!!! RT @mleew17: boy dats cold...tyga dwn ba...</td>\n",
       "    </tr>\n",
       "    <tr>\n",
       "      <th>2</th>\n",
       "      <td>1</td>\n",
       "      <td>!!!!!!! RT @UrKindOfBrand Dawg!!!! RT @80sbaby...</td>\n",
       "    </tr>\n",
       "    <tr>\n",
       "      <th>3</th>\n",
       "      <td>1</td>\n",
       "      <td>!!!!!!!!! RT @C_G_Anderson: @viva_based she lo...</td>\n",
       "    </tr>\n",
       "    <tr>\n",
       "      <th>4</th>\n",
       "      <td>1</td>\n",
       "      <td>!!!!!!!!!!!!! RT @ShenikaRoberts: The shit you...</td>\n",
       "    </tr>\n",
       "    <tr>\n",
       "      <th>...</th>\n",
       "      <td>...</td>\n",
       "      <td>...</td>\n",
       "    </tr>\n",
       "    <tr>\n",
       "      <th>24778</th>\n",
       "      <td>1</td>\n",
       "      <td>you's a muthaf***in lie &amp;#8220;@LifeAsKing: @2...</td>\n",
       "    </tr>\n",
       "    <tr>\n",
       "      <th>24779</th>\n",
       "      <td>2</td>\n",
       "      <td>you've gone and broke the wrong heart baby, an...</td>\n",
       "    </tr>\n",
       "    <tr>\n",
       "      <th>24780</th>\n",
       "      <td>1</td>\n",
       "      <td>young buck wanna eat!!.. dat nigguh like I ain...</td>\n",
       "    </tr>\n",
       "    <tr>\n",
       "      <th>24781</th>\n",
       "      <td>1</td>\n",
       "      <td>youu got wild bitches tellin you lies</td>\n",
       "    </tr>\n",
       "    <tr>\n",
       "      <th>24782</th>\n",
       "      <td>2</td>\n",
       "      <td>~~Ruffled | Ntac Eileen Dahlia - Beautiful col...</td>\n",
       "    </tr>\n",
       "  </tbody>\n",
       "</table>\n",
       "<p>24783 rows × 2 columns</p>\n",
       "</div>"
      ],
      "text/plain": [
       "       class                                              tweet\n",
       "0          2  !!! RT @mayasolovely: As a woman you shouldn't...\n",
       "1          1  !!!!! RT @mleew17: boy dats cold...tyga dwn ba...\n",
       "2          1  !!!!!!! RT @UrKindOfBrand Dawg!!!! RT @80sbaby...\n",
       "3          1  !!!!!!!!! RT @C_G_Anderson: @viva_based she lo...\n",
       "4          1  !!!!!!!!!!!!! RT @ShenikaRoberts: The shit you...\n",
       "...      ...                                                ...\n",
       "24778      1  you's a muthaf***in lie &#8220;@LifeAsKing: @2...\n",
       "24779      2  you've gone and broke the wrong heart baby, an...\n",
       "24780      1  young buck wanna eat!!.. dat nigguh like I ain...\n",
       "24781      1              youu got wild bitches tellin you lies\n",
       "24782      2  ~~Ruffled | Ntac Eileen Dahlia - Beautiful col...\n",
       "\n",
       "[24783 rows x 2 columns]"
      ]
     },
     "execution_count": 1,
     "metadata": {},
     "output_type": "execute_result"
    }
   ],
   "source": [
    "# !conda install -c conda-forge textstat --yes\n",
    "\n",
    "import process\n",
    "\n",
    "datasetInfo = {\n",
    "    'filename': 'david.csv',                      # the filename\n",
    "    'code': 'david',\n",
    "    'label': ['Hate', 'Offensive', 'Neither']     # Labels\n",
    "}\n",
    "\n",
    "data = process.dataImporting(datasetInfo['filename'])\n",
    "formattedData = process.dataFormatting(data, datasetInfo['code'])\n",
    "    \n",
    "formattedData"
   ]
  },
  {
   "cell_type": "markdown",
   "metadata": {},
   "source": [
    "## 2. Preprocess the dataset\n",
    "\n",
    "We are going to preprocess the data. We are going to vectorize each tweet and use TF-IDF to generate a matrix."
   ]
  },
  {
   "cell_type": "code",
   "execution_count": 2,
   "metadata": {},
   "outputs": [
    {
     "name": "stderr",
     "output_type": "stream",
     "text": [
      "[nltk_data] Downloading package stopwords to /home/ubuntu/nltk_data...\n",
      "[nltk_data]   Package stopwords is already up-to-date!\n",
      "[nltk_data] Downloading package averaged_perceptron_tagger to\n",
      "[nltk_data]     /home/ubuntu/nltk_data...\n",
      "[nltk_data]   Unzipping taggers/averaged_perceptron_tagger.zip.\n",
      "[nltk_data] Downloading package vader_lexicon to\n",
      "[nltk_data]     /home/ubuntu/nltk_data...\n"
     ]
    },
    {
     "name": "stdout",
     "output_type": "stream",
     "text": [
      "Feature generation ...\n"
     ]
    },
    {
     "name": "stderr",
     "output_type": "stream",
     "text": [
      "/home/ubuntu/anaconda3/envs/jupyterhub_prime/lib/python3.7/site-packages/sklearn/feature_extraction/text.py:386: UserWarning: Your stop_words may be inconsistent with your preprocessing. Tokenizing the stop words generated tokens ['b', 'c', 'e', 'f', 'g', 'h', 'j', 'l', 'n', 'p', 'r', 'u', 'v', 'w'] not in stop_words.\n",
      "  'stop_words.' % sorted(inconsistent))\n"
     ]
    },
    {
     "name": "stdout",
     "output_type": "stream",
     "text": [
      "(24783, 4023)\n",
      "TfidfVectorizer(decode_error='replace', max_df=0.75, max_features=10000,\n",
      "                min_df=5, ngram_range=(1, 3), norm=None,\n",
      "                preprocessor=<function dataPreprocessing.<locals>.preprocess at 0x7f4a72c01cb0>,\n",
      "                smooth_idf=False,\n",
      "                stop_words=['i', 'me', 'my', 'myself', 'we', 'our', 'ours',\n",
      "                            'ourselves', 'you', \"you're\", \"you've\", \"you'll\",\n",
      "                            \"you'd\", 'your', 'yours', 'yourself', 'yourselves',\n",
      "                            'he', 'him', 'his', 'himself', 'she', \"she's\",\n",
      "                            'her', 'hers', 'herself', 'it', \"it's\", 'its',\n",
      "                            'itself', ...],\n",
      "                tokenizer=<function dataPreprocessing.<locals>.tokenize at 0x7f4a72c01d40>)\n",
      "['b', 'b b', 'b b b', 'b b c', 'b b e', 'b b f', 'b b g', 'b b h', 'b b k', 'b b l', 'b b n', 'b b p', 'b b q', 'b b r', 'b b u', 'b b w', 'b c', 'b c b', 'b c c', 'b c e', 'b c f', 'b c g', 'b c h', 'b c k', 'b c l', 'b c n', 'b c p', 'b c r', 'b c u', 'b c v', 'b c w', 'b e', 'b e b', 'b e c', 'b e e', 'b e f', 'b e g', 'b e h', 'b e j', 'b e k', 'b e l', 'b e n', 'b e p', 'b e q', 'b e r', 'b e u', 'b e v', 'b e w', 'b e x', 'b e z', 'b f', 'b f b', 'b f c', 'b f e', 'b f f', 'b f g', 'b f h', 'b f l', 'b f n', 'b f r', 'b f u', 'b f w', 'b g', 'b g b', 'b g c', 'b g e', 'b g f', 'b g g', 'b g h', 'b g l', 'b g n', 'b g p', 'b g r', 'b g u', 'b g v', 'b g w', 'b h', 'b h b', 'b h c', 'b h e', 'b h f', 'b h g', 'b h h', 'b h k', 'b h l', 'b h n', 'b h p', 'b h r', 'b h u', 'b h v', 'b h w', 'b j', 'b j e', 'b j h', 'b j n', 'b j u', 'b k', 'b k b', 'b k c', 'b k e', 'b k f', 'b k g', 'b k h', 'b k l', 'b k n', 'b k r', 'b k u', 'b k w', 'b l', 'b l b', 'b l c', 'b l e', 'b l f', 'b l g', 'b l h', 'b l j', 'b l k', 'b l l', 'b l n', 'b l p', 'b l r', 'b l u', 'b l v', 'b l w', 'b l x', 'b n', 'b n b', 'b n c', 'b n e', 'b n f', 'b n g', 'b n h', 'b n j', 'b n k', 'b n l', 'b n n', 'b n p', 'b n r', 'b n u', 'b n w', 'b n x', 'b p', 'b p c', 'b p e', 'b p h', 'b p l', 'b p n', 'b p p', 'b p r', 'b p u', 'b q', 'b q u', 'b r', 'b r b', 'b r c', 'b r e', 'b r f', 'b r g', 'b r h', 'b r j', 'b r k', 'b r l', 'b r n', 'b r p', 'b r r', 'b r u', 'b r v', 'b r w', 'b r z', 'b u', 'b u b', 'b u c', 'b u e', 'b u f', 'b u g', 'b u h', 'b u j', 'b u k', 'b u l', 'b u n', 'b u p', 'b u q', 'b u r', 'b u u', 'b u v', 'b u w', 'b u z', 'b v', 'b v b', 'b v e', 'b v u', 'b w', 'b w b', 'b w c', 'b w e', 'b w f', 'b w g', 'b w h', 'b w l', 'b w n', 'b w p', 'b w r', 'b w u', 'b w w', 'b x', 'b x e', 'b x f', 'b x h', 'b x n', 'b z', 'b z e', 'b z z', 'c b', 'c b b', 'c b c', 'c b e', 'c b h', 'c b l', 'c b n', 'c b r', 'c b u', 'c b w', 'c c', 'c c b', 'c c c', 'c c e', 'c c f', 'c c g', 'c c h', 'c c k', 'c c l', 'c c n', 'c c p', 'c c r', 'c c u', 'c c w', 'c e', 'c e b', 'c e c', 'c e e', 'c e f', 'c e g', 'c e h', 'c e j', 'c e k', 'c e l', 'c e n', 'c e p', 'c e r', 'c e u', 'c e v', 'c e w', 'c e x', 'c f', 'c f c', 'c f e', 'c f f', 'c f g', 'c f h', 'c f l', 'c f n', 'c f r', 'c f u', 'c g', 'c g b', 'c g e', 'c g h', 'c g n', 'c g p', 'c g r', 'c g u', 'c h', 'c h b', 'c h c', 'c h e', 'c h f', 'c h g', 'c h h', 'c h j', 'c h k', 'c h l', 'c h n', 'c h p', 'c h q', 'c h r', 'c h u', 'c h v', 'c h w', 'c h x', 'c h z', 'c j', 'c j c', 'c j h', 'c j u', 'c k', 'c k b', 'c k c', 'c k e', 'c k f', 'c k g', 'c k h', 'c k j', 'c k k', 'c k l', 'c k n', 'c k p', 'c k q', 'c k r', 'c k u', 'c k v', 'c k w', 'c k z', 'c l', 'c l b', 'c l c', 'c l e', 'c l f', 'c l g', 'c l h', 'c l j', 'c l k', 'c l l', 'c l n', 'c l p', 'c l q', 'c l r', 'c l u', 'c l v', 'c l w', 'c l z', 'c n', 'c n b', 'c n c', 'c n e', 'c n f', 'c n g', 'c n h', 'c n j', 'c n k', 'c n l', 'c n n', 'c n p', 'c n q', 'c n r', 'c n u', 'c n v', 'c n w', 'c p', 'c p b', 'c p c', 'c p e', 'c p f', 'c p g', 'c p h', 'c p j', 'c p l', 'c p n', 'c p p', 'c p r', 'c p u', 'c p w', 'c q', 'c q u', 'c r', 'c r b', 'c r c', 'c r e', 'c r f', 'c r g', 'c r h', 'c r j', 'c r k', 'c r l', 'c r n', 'c r p', 'c r r', 'c r u', 'c r v', 'c r w', 'c r z', 'c u', 'c u b', 'c u c', 'c u e', 'c u f', 'c u g', 'c u h', 'c u k', 'c u l', 'c u n', 'c u p', 'c u r', 'c u u', 'c u w', 'c u z', 'c v', 'c v b', 'c v c', 'c v e', 'c v l', 'c w', 'c w b', 'c w c', 'c w e', 'c w g', 'c w h', 'c w l', 'c w n', 'c w p', 'c w r', 'c w u', 'c x', 'c z', 'c z e', 'e b', 'e b b', 'e b c', 'e b e', 'e b f', 'e b g', 'e b h', 'e b j', 'e b k', 'e b l', 'e b n', 'e b p', 'e b r', 'e b u', 'e b v', 'e b w', 'e b x', 'e b z', 'e c', 'e c b', 'e c c', 'e c e', 'e c f', 'e c g', 'e c h', 'e c k', 'e c l', 'e c n', 'e c p', 'e c r', 'e c u', 'e c v', 'e c w', 'e e', 'e e b', 'e e c', 'e e e', 'e e f', 'e e g', 'e e h', 'e e j', 'e e k', 'e e l', 'e e n', 'e e p', 'e e q', 'e e r', 'e e u', 'e e v', 'e e w', 'e e x', 'e e z', 'e f', 'e f b', 'e f c', 'e f e', 'e f f', 'e f g', 'e f h', 'e f j', 'e f k', 'e f l', 'e f n', 'e f p', 'e f r', 'e f u', 'e f v', 'e f w', 'e f x', 'e g', 'e g b', 'e g c', 'e g e', 'e g f', 'e g g', 'e g h', 'e g j', 'e g k', 'e g l', 'e g n', 'e g p', 'e g q', 'e g r', 'e g u', 'e g v', 'e g w', 'e g z', 'e h', 'e h b', 'e h c', 'e h e', 'e h f', 'e h g', 'e h h', 'e h j', 'e h k', 'e h l', 'e h n', 'e h p', 'e h q', 'e h r', 'e h u', 'e h v', 'e h w', 'e j', 'e j b', 'e j c', 'e j e', 'e j f', 'e j g', 'e j h', 'e j j', 'e j k', 'e j l', 'e j n', 'e j p', 'e j r', 'e j u', 'e j w', 'e k', 'e k b', 'e k c', 'e k e', 'e k f', 'e k g', 'e k h', 'e k j', 'e k k', 'e k l', 'e k n', 'e k p', 'e k r', 'e k u', 'e k v', 'e k w', 'e l', 'e l b', 'e l c', 'e l e', 'e l f', 'e l g', 'e l h', 'e l j', 'e l k', 'e l l', 'e l n', 'e l p', 'e l q', 'e l r', 'e l u', 'e l v', 'e l w', 'e l x', 'e l z', 'e n', 'e n b', 'e n c', 'e n e', 'e n f', 'e n g', 'e n h', 'e n j', 'e n k', 'e n l', 'e n n', 'e n p', 'e n q', 'e n r', 'e n u', 'e n v', 'e n w', 'e n x', 'e n z', 'e p', 'e p b', 'e p c', 'e p e', 'e p f', 'e p g', 'e p h', 'e p j', 'e p k', 'e p l', 'e p n', 'e p p', 'e p r', 'e p u', 'e p v', 'e p w', 'e p z', 'e q', 'e q u', 'e r', 'e r b', 'e r c', 'e r e', 'e r f', 'e r g', 'e r h', 'e r j', 'e r k', 'e r l', 'e r n', 'e r p', 'e r q', 'e r r', 'e r u', 'e r v', 'e r w', 'e r x', 'e r z', 'e u', 'e u b', 'e u c', 'e u e', 'e u f', 'e u g', 'e u h', 'e u j', 'e u k', 'e u l', 'e u n', 'e u p', 'e u q', 'e u r', 'e u u', 'e u v', 'e u w', 'e u x', 'e u z', 'e v', 'e v b', 'e v c', 'e v e', 'e v g', 'e v h', 'e v k', 'e v l', 'e v n', 'e v p', 'e v r', 'e v u', 'e v v', 'e v w', 'e w', 'e w b', 'e w c', 'e w e', 'e w f', 'e w g', 'e w h', 'e w j', 'e w k', 'e w l', 'e w n', 'e w p', 'e w r', 'e w u', 'e w v', 'e w w', 'e x', 'e x b', 'e x c', 'e x e', 'e x f', 'e x g', 'e x h', 'e x j', 'e x k', 'e x l', 'e x n', 'e x p', 'e x r', 'e x u', 'e x v', 'e x w', 'e x x', 'e z', 'e z b', 'e z c', 'e z e', 'e z f', 'e z g', 'e z h', 'e z n', 'e z p', 'e z r', 'e z u', 'e z z', 'f', 'f b', 'f b b', 'f b c', 'f b e', 'f b f', 'f b g', 'f b h', 'f b l', 'f b n', 'f b r', 'f b u', 'f b w', 'f c', 'f c b', 'f c c', 'f c e', 'f c f', 'f c h', 'f c k', 'f c l', 'f c n', 'f c p', 'f c r', 'f c u', 'f c w', 'f e', 'f e b', 'f e c', 'f e e', 'f e f', 'f e g', 'f e h', 'f e j', 'f e k', 'f e l', 'f e n', 'f e p', 'f e r', 'f e u', 'f e v', 'f e w', 'f e x', 'f f', 'f f b', 'f f c', 'f f e', 'f f f', 'f f g', 'f f h', 'f f j', 'f f k', 'f f l', 'f f n', 'f f p', 'f f r', 'f f u', 'f f v', 'f f w', 'f g', 'f g b', 'f g c', 'f g e', 'f g f', 'f g g', 'f g h', 'f g l', 'f g n', 'f g p', 'f g r', 'f g u', 'f g w', 'f h', 'f h b', 'f h c', 'f h e', 'f h f', 'f h g', 'f h h', 'f h k', 'f h l', 'f h n', 'f h p', 'f h r', 'f h u', 'f h v', 'f h w', 'f j', 'f j e', 'f j k', 'f j u', 'f k', 'f k e', 'f k n', 'f l', 'f l b', 'f l c', 'f l e', 'f l f', 'f l g', 'f l h', 'f l k', 'f l l', 'f l n', 'f l p', 'f l r', 'f l u', 'f l v', 'f l w', 'f l x', 'f n', 'f n b', 'f n c', 'f n e', 'f n f', 'f n g', 'f n h', 'f n j', 'f n k', 'f n l', 'f n n', 'f n p', 'f n r', 'f n u', 'f n v', 'f n w', 'f p', 'f p b', 'f p c', 'f p e', 'f p h', 'f p l', 'f p n', 'f p p', 'f p r', 'f p u', 'f p w', 'f q', 'f q u', 'f r', 'f r b', 'f r c', 'f r e', 'f r f', 'f r g', 'f r h', 'f r j', 'f r k', 'f r l', 'f r n', 'f r p', 'f r q', 'f r r', 'f r u', 'f r v', 'f r w', 'f r z', 'f u', 'f u b', 'f u c', 'f u e', 'f u f', 'f u g', 'f u h', 'f u j', 'f u k', 'f u l', 'f u n', 'f u p', 'f u q', 'f u r', 'f u u', 'f u v', 'f u w', 'f u x', 'f u z', 'f v', 'f v c', 'f v e', 'f v l', 'f v n', 'f v r', 'f w', 'f w b', 'f w c', 'f w e', 'f w f', 'f w g', 'f w h', 'f w k', 'f w l', 'f w n', 'f w r', 'f w u', 'f w w', 'f x', 'f x c', 'f x e', 'f x n', 'f z', 'f z z', 'g', 'g b', 'g b b', 'g b c', 'g b e', 'g b f', 'g b g', 'g b h', 'g b k', 'g b l', 'g b n', 'g b p', 'g b r', 'g b u', 'g b w', 'g c', 'g c b', 'g c c', 'g c e', 'g c f', 'g c g', 'g c h', 'g c k', 'g c l', 'g c n', 'g c p', 'g c r', 'g c u', 'g c v', 'g e', 'g e b', 'g e c', 'g e e', 'g e f', 'g e g', 'g e h', 'g e j', 'g e k', 'g e l', 'g e n', 'g e p', 'g e r', 'g e u', 'g e v', 'g e w', 'g e x', 'g e z', 'g f', 'g f b', 'g f c', 'g f e', 'g f f', 'g f g', 'g f h', 'g f k', 'g f l', 'g f n', 'g f r', 'g f u', 'g f w', 'g g', 'g g b', 'g g c', 'g g e', 'g g f', 'g g g', 'g g h', 'g g j', 'g g k', 'g g l', 'g g n', 'g g p', 'g g q', 'g g r', 'g g u', 'g g v', 'g g w', 'g g z', 'g h', 'g h b', 'g h c', 'g h e', 'g h f', 'g h g', 'g h h', 'g h j', 'g h k', 'g h l', 'g h n', 'g h p', 'g h q', 'g h r', 'g h u', 'g h v', 'g h w', 'g h z', 'g j', 'g j b', 'g j c', 'g j e', 'g j h', 'g j k', 'g j l', 'g j n', 'g j p', 'g j u', 'g k', 'g k b', 'g k c', 'g k e', 'g k f', 'g k h', 'g k k', 'g k l', 'g k n', 'g k r', 'g k u', 'g l', 'g l b', 'g l c', 'g l e', 'g l f', 'g l g', 'g l h', 'g l k', 'g l l', 'g l n', 'g l p', 'g l r', 'g l u', 'g l v', 'g l w', 'g l x', 'g l z', 'g n', 'g n b', 'g n c', 'g n e', 'g n f', 'g n g', 'g n h', 'g n j', 'g n k', 'g n l', 'g n n', 'g n p', 'g n r', 'g n u', 'g n v', 'g n w', 'g n z', 'g p', 'g p b', 'g p c', 'g p e', 'g p f', 'g p g', 'g p h', 'g p k', 'g p l', 'g p n', 'g p p', 'g p r', 'g p u', 'g p v', 'g p w', 'g q', 'g q u', 'g r', 'g r b', 'g r c', 'g r e', 'g r f', 'g r g', 'g r h', 'g r j', 'g r k', 'g r l', 'g r n', 'g r p', 'g r r', 'g r u', 'g r v', 'g r w', 'g r z', 'g u', 'g u b', 'g u c', 'g u e', 'g u f', 'g u g', 'g u h', 'g u j', 'g u k', 'g u l', 'g u n', 'g u p', 'g u r', 'g u u', 'g u v', 'g u w', 'g v', 'g v c', 'g v e', 'g v g', 'g v l', 'g v n', 'g v p', 'g v r', 'g w', 'g w b', 'g w c', 'g w e', 'g w f', 'g w g', 'g w h', 'g w k', 'g w l', 'g w n', 'g w p', 'g w r', 'g w u', 'g w w', 'g x', 'g z', 'g z b', 'g z e', 'g z h', 'g z l', 'g z n', 'g z p', 'g z r', 'g z w', 'h b', 'h b b', 'h b c', 'h b e', 'h b f', 'h b g', 'h b h', 'h b k', 'h b l', 'h b n', 'h b p', 'h b r', 'h b u', 'h b w', 'h b x', 'h c', 'h c b', 'h c c', 'h c e', 'h c f', 'h c g', 'h c h', 'h c k', 'h c l', 'h c n', 'h c p', 'h c r', 'h c u', 'h c w', 'h e', 'h e b', 'h e c', 'h e e', 'h e f', 'h e g', 'h e h', 'h e j', 'h e k', 'h e l', 'h e n', 'h e p', 'h e q', 'h e r', 'h e u', 'h e v', 'h e w', 'h e x', 'h e z', 'h f', 'h f b', 'h f c', 'h f e', 'h f f', 'h f g', 'h f h', 'h f j', 'h f k', 'h f l', 'h f n', 'h f p', 'h f r', 'h f u', 'h f v', 'h f w', 'h f x', 'h g', 'h g b', 'h g c', 'h g e', 'h g f', 'h g g', 'h g h', 'h g j', 'h g k', 'h g l', 'h g n', 'h g p', 'h g r', 'h g u', 'h g v', 'h g w', 'h h', 'h h b', 'h h c', 'h h e', 'h h f', 'h h g', 'h h h', 'h h j', 'h h k', 'h h l', 'h h n', 'h h p', 'h h r', 'h h u', 'h h v', 'h h w', 'h j', 'h j b', 'h j c', 'h j e', 'h j g', 'h j h', 'h j j', 'h j k', 'h j n', 'h j r', 'h j u', 'h k', 'h k b', 'h k c', 'h k e', 'h k f', 'h k h', 'h k l', 'h k n', 'h k p', 'h k r', 'h k u', 'h k w', 'h l', 'h l b', 'h l c', 'h l e', 'h l f', 'h l g', 'h l h', 'h l j', 'h l k', 'h l l', 'h l n', 'h l p', 'h l r', 'h l u', 'h l v', 'h l w', 'h n', 'h n b', 'h n c', 'h n e', 'h n f', 'h n g', 'h n h', 'h n j', 'h n k', 'h n l', 'h n n', 'h n p', 'h n q', 'h n r', 'h n u', 'h n v', 'h n w', 'h n x', 'h n z', 'h p', 'h p b', 'h p c', 'h p e', 'h p f', 'h p g', 'h p h', 'h p k', 'h p l', 'h p n', 'h p p', 'h p r', 'h p u', 'h p v', 'h p w', 'h q', 'h q u', 'h r', 'h r b', 'h r c', 'h r e', 'h r f', 'h r g', 'h r h', 'h r j', 'h r k', 'h r l', 'h r n', 'h r p', 'h r q', 'h r r', 'h r u', 'h r v', 'h r w', 'h u', 'h u b', 'h u c', 'h u e', 'h u f', 'h u g', 'h u h', 'h u j', 'h u k', 'h u l', 'h u n', 'h u p', 'h u r', 'h u u', 'h u v', 'h u w', 'h v', 'h v c', 'h v e', 'h v h', 'h v l', 'h v n', 'h v p', 'h v r', 'h w', 'h w b', 'h w c', 'h w e', 'h w f', 'h w g', 'h w h', 'h w j', 'h w k', 'h w l', 'h w n', 'h w p', 'h w r', 'h w u', 'h w v', 'h w w', 'h w z', 'h x', 'h x e', 'h z', 'h z e', 'j', 'j b', 'j b b', 'j b c', 'j b e', 'j b f', 'j b h', 'j b l', 'j b n', 'j b r', 'j b u', 'j c', 'j c b', 'j c e', 'j c k', 'j c l', 'j c n', 'j c r', 'j e', 'j e b', 'j e c', 'j e e', 'j e f', 'j e g', 'j e h', 'j e l', 'j e n', 'j e p', 'j e r', 'j e u', 'j e v', 'j e w', 'j f', 'j f r', 'j g', 'j g b', 'j g g', 'j g u', 'j h', 'j h b', 'j h c', 'j h e', 'j h f', 'j h g', 'j h h', 'j h j', 'j h k', 'j h n', 'j h p', 'j h r', 'j h u', 'j h w', 'j j', 'j k', 'j k b', 'j k e', 'j k j', 'j k n', 'j l', 'j l b', 'j l e', 'j l f', 'j l l', 'j n', 'j n b', 'j n c', 'j n e', 'j n g', 'j n h', 'j n k', 'j n l', 'j n n', 'j n r', 'j n u', 'j n w', 'j p', 'j p n', 'j r', 'j r e', 'j r f', 'j r h', 'j r l', 'j r n', 'j r r', 'j u', 'j u b', 'j u c', 'j u e', 'j u f', 'j u g', 'j u h', 'j u j', 'j u k', 'j u l', 'j u n', 'j u p', 'j u r', 'j u u', 'j u v', 'j u w', 'j v', 'j v e', 'j w', 'j x', 'j z', 'k', 'k b', 'k b b', 'k b c', 'k b e', 'k b f', 'k b g', 'k b h', 'k b k', 'k b l', 'k b n', 'k b r', 'k b u', 'k b w', 'k c', 'k c b', 'k c c', 'k c e', 'k c h', 'k c k', 'k c l', 'k c n', 'k c p', 'k c r', 'k c u', 'k e', 'k e b', 'k e c', 'k e e', 'k e f', 'k e g', 'k e h', 'k e j', 'k e k', 'k e l', 'k e n', 'k e p', 'k e q', 'k e r', 'k e u', 'k e v', 'k e w', 'k e x', 'k e z', 'k f', 'k f b', 'k f c', 'k f e', 'k f f', 'k f g', 'k f h', 'k f l', 'k f n', 'k f p', 'k f r', 'k f u', 'k f w', 'k g', 'k g b', 'k g c', 'k g e', 'k g f', 'k g g', 'k g h', 'k g l', 'k g n', 'k g p', 'k g r', 'k g u', 'k g v', 'k g w', 'k h', 'k h b', 'k h c', 'k h e', 'k h f', 'k h g', 'k h h', 'k h j', 'k h k', 'k h l', 'k h n', 'k h p', 'k h r', 'k h u', 'k h v', 'k h w', 'k j', 'k j e', 'k j u', 'k k', 'k k b', 'k k c', 'k k e', 'k k f', 'k k g', 'k k h', 'k k k', 'k k l', 'k k n', 'k k r', 'k k u', 'k k w', 'k l', 'k l b', 'k l c', 'k l e', 'k l f', 'k l g', 'k l h', 'k l k', 'k l l', 'k l n', 'k l p', 'k l r', 'k l u', 'k l v', 'k l w', 'k n', 'k n b', 'k n c', 'k n e', 'k n f', 'k n g', 'k n h', 'k n j', 'k n k', 'k n l', 'k n n', 'k n p', 'k n r', 'k n u', 'k n v', 'k n w', 'k p', 'k p b', 'k p c', 'k p e', 'k p g', 'k p h', 'k p k', 'k p l', 'k p n', 'k p p', 'k p r', 'k p u', 'k p w', 'k q', 'k q u', 'k r', 'k r b', 'k r c', 'k r e', 'k r f', 'k r g', 'k r h', 'k r k', 'k r l', 'k r n', 'k r p', 'k r r', 'k r u', 'k r v', 'k r w', 'k u', 'k u b', 'k u c', 'k u e', 'k u f', 'k u g', 'k u h', 'k u j', 'k u k', 'k u l', 'k u n', 'k u p', 'k u r', 'k u u', 'k u w', 'k u z', 'k v', 'k v c', 'k v e', 'k v n', 'k w', 'k w b', 'k w c', 'k w e', 'k w f', 'k w g', 'k w h', 'k w k', 'k w l', 'k w n', 'k w p', 'k w r', 'k w u', 'k w w', 'k x', 'k z', 'k z e', 'l b', 'l b b', 'l b c', 'l b e', 'l b f', 'l b g', 'l b h', 'l b k', 'l b l', 'l b n', 'l b p', 'l b r', 'l b u', 'l b v', 'l b w', 'l c', 'l c b', 'l c c', 'l c e', 'l c f', 'l c g', 'l c h', 'l c j', 'l c k', 'l c l', 'l c n', 'l c p', 'l c r', 'l c u', 'l c v', 'l c w', 'l e', 'l e b', 'l e c', 'l e e', 'l e f', 'l e g', 'l e h', 'l e j', 'l e k', 'l e l', 'l e n', 'l e p', 'l e q', 'l e r', 'l e u', 'l e v', 'l e w', 'l e x', 'l e z', 'l f', 'l f b', 'l f c', 'l f e', 'l f f', 'l f g', 'l f h', 'l f j', 'l f k', 'l f l', 'l f n', 'l f p', 'l f r', 'l f u', 'l f v', 'l f w', 'l g', 'l g b', 'l g c', 'l g e', 'l g f', 'l g g', 'l g h', 'l g k', 'l g l', 'l g n', 'l g p', 'l g r', 'l g u', 'l g v', 'l g w', 'l g z', 'l h', 'l h b', 'l h c', 'l h e', 'l h f', 'l h g', 'l h h', 'l h j', 'l h k', 'l h l', 'l h n', 'l h p', 'l h r', 'l h u', 'l h v', 'l h w', 'l j', 'l j b', 'l j c', 'l j e', 'l j h', 'l j k', 'l j n', 'l j u', 'l k', 'l k b', 'l k c', 'l k e', 'l k f', 'l k g', 'l k h', 'l k j', 'l k k', 'l k l', 'l k n', 'l k p', 'l k r', 'l k u', 'l k w', 'l l', 'l l b', 'l l c', 'l l e', 'l l f', 'l l g', 'l l h', 'l l j', 'l l k', 'l l l', 'l l n', 'l l p', 'l l q', 'l l r', 'l l u', 'l l v', 'l l w', 'l l z', 'l n', 'l n b', 'l n c', 'l n e', 'l n f', 'l n g', 'l n h', 'l n j', 'l n k', 'l n l', 'l n n', 'l n p', 'l n r', 'l n u', 'l n v', 'l n w', 'l n x', 'l p', 'l p b', 'l p c', 'l p e', 'l p f', 'l p g', 'l p h', 'l p k', 'l p l', 'l p n', 'l p p', 'l p r', 'l p u', 'l p v', 'l p w', 'l q', 'l q e', 'l q u', 'l r', 'l r b', 'l r c', 'l r e', 'l r f', 'l r g', 'l r h', 'l r j', 'l r k', 'l r l', 'l r n', 'l r p', 'l r r', 'l r u', 'l r v', 'l r w', 'l u', 'l u b', 'l u c', 'l u e', 'l u f', 'l u g', 'l u h', 'l u j', 'l u k', 'l u l', 'l u n', 'l u p', 'l u q', 'l u r', 'l u u', 'l u v', 'l u w', 'l u x', 'l u z', 'l v', 'l v b', 'l v c', 'l v e', 'l v l', 'l v n', 'l v p', 'l v r', 'l w', 'l w b', 'l w c', 'l w e', 'l w f', 'l w g', 'l w h', 'l w j', 'l w k', 'l w l', 'l w n', 'l w p', 'l w q', 'l w r', 'l w u', 'l w v', 'l w w', 'l w z', 'l x', 'l x b', 'l x c', 'l x e', 'l x n', 'l z', 'l z b', 'l z e', 'l z h', 'l z l', 'l z n', 'l z r', 'l z z', 'n b', 'n b b', 'n b c', 'n b e', 'n b f', 'n b g', 'n b h', 'n b k', 'n b l', 'n b n', 'n b p', 'n b r', 'n b u', 'n b v', 'n b w', 'n b x', 'n c', 'n c b', 'n c c', 'n c e', 'n c f', 'n c g', 'n c h', 'n c k', 'n c l', 'n c n', 'n c p', 'n c r', 'n c u', 'n c v', 'n c w', 'n e', 'n e b', 'n e c', 'n e e', 'n e f', 'n e g', 'n e h', 'n e j', 'n e k', 'n e l', 'n e n', 'n e p', 'n e q', 'n e r', 'n e u', 'n e v', 'n e w', 'n e x', 'n e z', 'n f', 'n f b', 'n f c', 'n f e', 'n f f', 'n f g', 'n f h', 'n f k', 'n f l', 'n f n', 'n f p', 'n f r', 'n f u', 'n f v', 'n f w', 'n f x', 'n g', 'n g b', 'n g c', 'n g e', 'n g f', 'n g g', 'n g h', 'n g j', 'n g k', 'n g l', 'n g n', 'n g p', 'n g q', 'n g r', 'n g u', 'n g v', 'n g w', 'n g x', 'n g z', 'n h', 'n h b', 'n h c', 'n h e', 'n h f', 'n h g', 'n h h', 'n h j', 'n h k', 'n h l', 'n h n', 'n h p', 'n h r', 'n h u', 'n h v', 'n h w', 'n j', 'n j b', 'n j c', 'n j e', 'n j g', 'n j h', 'n j k', 'n j l', 'n j n', 'n j p', 'n j r', 'n j u', 'n j w', 'n k', 'n k b', 'n k c', 'n k e', 'n k f', 'n k g', 'n k h', 'n k j', 'n k k', 'n k l', 'n k n', 'n k p', 'n k r', 'n k u', 'n k v', 'n k w', 'n l', 'n l b', 'n l c', 'n l e', 'n l f', 'n l g', 'n l h', 'n l k', 'n l l', 'n l n', 'n l p', 'n l q', 'n l r', 'n l u', 'n l v', 'n l w', 'n l z', 'n n', 'n n b', 'n n c', 'n n e', 'n n f', 'n n g', 'n n h', 'n n j', 'n n k', 'n n l', 'n n n', 'n n p', 'n n q', 'n n r', 'n n u', 'n n v', 'n n w', 'n n x', 'n n z', 'n p', 'n p b', 'n p c', 'n p e', 'n p f', 'n p g', 'n p h', 'n p j', 'n p k', 'n p l', 'n p n', 'n p p', 'n p r', 'n p u', 'n p w', 'n q', 'n q q', 'n q u', 'n r', 'n r b', 'n r c', 'n r e', 'n r f', 'n r g', 'n r h', 'n r j', 'n r k', 'n r l', 'n r n', 'n r p', 'n r r', 'n r u', 'n r v', 'n r w', 'n u', 'n u b', 'n u c', 'n u e', 'n u f', 'n u g', 'n u h', 'n u j', 'n u k', 'n u l', 'n u n', 'n u p', 'n u r', 'n u u', 'n u v', 'n u w', 'n u z', 'n v', 'n v b', 'n v c', 'n v e', 'n v g', 'n v h', 'n v l', 'n v n', 'n v p', 'n v r', 'n v u', 'n v v', 'n v w', 'n w', 'n w b', 'n w c', 'n w e', 'n w f', 'n w g', 'n w h', 'n w j', 'n w k', 'n w l', 'n w n', 'n w p', 'n w r', 'n w u', 'n w v', 'n w w', 'n w z', 'n x', 'n x b', 'n x e', 'n x n', 'n x p', 'n z', 'n z b', 'n z e', 'n z l', 'n z n', 'n z p', 'n z r', 'n z u', 'p', 'p b', 'p b b', 'p b c', 'p b e', 'p b g', 'p b h', 'p b l', 'p b n', 'p b r', 'p b u', 'p b w', 'p c', 'p c b', 'p c c', 'p c e', 'p c f', 'p c g', 'p c h', 'p c k', 'p c l', 'p c n', 'p c p', 'p c r', 'p c u', 'p c v', 'p c w', 'p e', 'p e b', 'p e c', 'p e e', 'p e f', 'p e g', 'p e h', 'p e j', 'p e k', 'p e l', 'p e n', 'p e p', 'p e r', 'p e u', 'p e v', 'p e w', 'p e x', 'p f', 'p f b', 'p f e', 'p f f', 'p f g', 'p f h', 'p f k', 'p f l', 'p f n', 'p f r', 'p f u', 'p f v', 'p g', 'p g b', 'p g c', 'p g e', 'p g f', 'p g g', 'p g h', 'p g l', 'p g n', 'p g r', 'p g u', 'p g v', 'p g w', 'p h', 'p h b', 'p h c', 'p h e', 'p h f', 'p h g', 'p h h', 'p h k', 'p h l', 'p h n', 'p h p', 'p h r', 'p h u', 'p h v', 'p h w', 'p j', 'p j e', 'p j n', 'p j u', 'p k', 'p k b', 'p k e', 'p k h', 'p k n', 'p k r', 'p k u', 'p l', 'p l b', 'p l c', 'p l e', 'p l f', 'p l g', 'p l h', 'p l j', 'p l k', 'p l l', 'p l n', 'p l p', 'p l q', 'p l r', 'p l u', 'p l v', 'p l w', 'p l z', 'p n', 'p n b', 'p n c', 'p n e', 'p n f', 'p n g', 'p n h', 'p n j', 'p n k', 'p n l', 'p n n', 'p n p', 'p n r', 'p n u', 'p n v', 'p n w', 'p p', 'p p b', 'p p c', 'p p e', 'p p f', 'p p g', 'p p h', 'p p k', 'p p l', 'p p n', 'p p p', 'p p r', 'p p u', 'p p v', 'p p w', 'p q', 'p q u', 'p r', 'p r b', 'p r c', 'p r e', 'p r f', 'p r g', 'p r h', 'p r j', 'p r k', 'p r l', 'p r n', 'p r p', 'p r r', 'p r u', 'p r v', 'p r w', 'p r z', 'p u', 'p u b', 'p u c', 'p u e', 'p u f', 'p u g', 'p u h', 'p u j', 'p u k', 'p u l', 'p u n', 'p u p', 'p u r', 'p u u', 'p u v', 'p u w', 'p u z', 'p v', 'p v c', 'p v e', 'p v l', 'p v n', 'p w', 'p w b', 'p w c', 'p w e', 'p w f', 'p w g', 'p w h', 'p w l', 'p w n', 'p w p', 'p w r', 'p w u', 'p x', 'p z', 'p z e', 'p z z', 'q', 'q b', 'q e', 'q f', 'q h', 'q l', 'q n', 'q p', 'q q', 'q r', 'q u', 'q u b', 'q u c', 'q u e', 'q u f', 'q u h', 'q u l', 'q u n', 'q u r', 'q u u', 'q u w', 'q w', 'r b', 'r b b', 'r b c', 'r b e', 'r b f', 'r b g', 'r b h', 'r b j', 'r b k', 'r b l', 'r b n', 'r b p', 'r b r', 'r b u', 'r b v', 'r b w', 'r b z', 'r c', 'r c b', 'r c c', 'r c e', 'r c f', 'r c g', 'r c h', 'r c j', 'r c k', 'r c l', 'r c n', 'r c p', 'r c r', 'r c u', 'r c v', 'r c w', 'r e', 'r e b', 'r e c', 'r e e', 'r e f', 'r e g', 'r e h', 'r e j', 'r e k', 'r e l', 'r e n', 'r e p', 'r e q', 'r e r', 'r e u', 'r e v', 'r e w', 'r e x', 'r e z', 'r f', 'r f b', 'r f c', 'r f e', 'r f f', 'r f g', 'r f h', 'r f j', 'r f k', 'r f l', 'r f n', 'r f p', 'r f r', 'r f u', 'r f v', 'r f w', 'r f x', 'r g', 'r g b', 'r g c', 'r g e', 'r g f', 'r g g', 'r g h', 'r g k', 'r g l', 'r g n', 'r g p', 'r g r', 'r g u', 'r g v', 'r g w', 'r h', 'r h b', 'r h c', 'r h e', 'r h f', 'r h g', 'r h h', 'r h j', 'r h k', 'r h l', 'r h n', 'r h p', 'r h q', 'r h r', 'r h u', 'r h v', 'r h w', 'r j', 'r j b', 'r j c', 'r j e', 'r j h', 'r j k', 'r j l', 'r j n', 'r j r', 'r j u', 'r k', 'r k b', 'r k c', 'r k e', 'r k f', 'r k g', 'r k h', 'r k j', 'r k k', 'r k l', 'r k n', 'r k p', 'r k r', 'r k u', 'r k w', 'r l', 'r l b', 'r l c', 'r l e', 'r l f', 'r l g', 'r l h', 'r l j', 'r l k', 'r l l', 'r l n', 'r l p', 'r l q', 'r l r', 'r l u', 'r l v', 'r l w', 'r l z', 'r n', 'r n b', 'r n c', 'r n e', 'r n f', 'r n g', 'r n h', 'r n j', 'r n k', 'r n l', 'r n n', 'r n p', 'r n q', 'r n r', 'r n u', 'r n v', 'r n w', 'r n x', 'r p', 'r p b', 'r p c', 'r p e', 'r p f', 'r p g', 'r p h', 'r p j', 'r p k', 'r p l', 'r p n', 'r p p', 'r p r', 'r p u', 'r p v', 'r p w', 'r q', 'r q u', 'r r', 'r r b', 'r r c', 'r r e', 'r r f', 'r r g', 'r r h', 'r r j', 'r r k', 'r r l', 'r r n', 'r r p', 'r r r', 'r r u', 'r r v', 'r r w', 'r r z', 'r u', 'r u b', 'r u c', 'r u e', 'r u f', 'r u g', 'r u h', 'r u j', 'r u k', 'r u l', 'r u n', 'r u p', 'r u q', 'r u r', 'r u u', 'r u v', 'r u w', 'r u z', 'r v', 'r v b', 'r v c', 'r v e', 'r v g', 'r v h', 'r v l', 'r v n', 'r v p', 'r v r', 'r v u', 'r v v', 'r w', 'r w b', 'r w c', 'r w e', 'r w f', 'r w g', 'r w h', 'r w j', 'r w k', 'r w l', 'r w n', 'r w p', 'r w r', 'r w u', 'r w v', 'r w w', 'r w z', 'r x', 'r x n', 'r z', 'r z b', 'r z c', 'r z e', 'r z f', 'r z h', 'r z l', 'r z n', 'r z p', 'r z r', 'r z u', 'r z v', 'r z w', 'r z z', 'u b', 'u b b', 'u b c', 'u b e', 'u b f', 'u b g', 'u b h', 'u b j', 'u b k', 'u b l', 'u b n', 'u b p', 'u b r', 'u b u', 'u b v', 'u b w', 'u c', 'u c b', 'u c c', 'u c e', 'u c f', 'u c h', 'u c j', 'u c k', 'u c l', 'u c n', 'u c p', 'u c r', 'u c u', 'u c w', 'u e', 'u e b', 'u e c', 'u e e', 'u e f', 'u e g', 'u e h', 'u e j', 'u e k', 'u e l', 'u e n', 'u e p', 'u e q', 'u e r', 'u e u', 'u e v', 'u e w', 'u e x', 'u e z', 'u f', 'u f b', 'u f c', 'u f e', 'u f f', 'u f g', 'u f h', 'u f k', 'u f l', 'u f n', 'u f p', 'u f r', 'u f u', 'u f v', 'u f w', 'u g', 'u g b', 'u g c', 'u g e', 'u g f', 'u g g', 'u g h', 'u g k', 'u g l', 'u g n', 'u g p', 'u g r', 'u g u', 'u g v', 'u g w', 'u h', 'u h b', 'u h c', 'u h e', 'u h f', 'u h g', 'u h h', 'u h j', 'u h k', 'u h l', 'u h n', 'u h p', 'u h r', 'u h u', 'u h v', 'u h w', 'u j', 'u j e', 'u j n', 'u j u', 'u k', 'u k b', 'u k c', 'u k e', 'u k f', 'u k g', 'u k h', 'u k k', 'u k l', 'u k n', 'u k r', 'u k u', 'u k w', 'u l', 'u l b', 'u l c', 'u l e', 'u l f', 'u l g', 'u l h', 'u l j', 'u l k', 'u l l', 'u l n', 'u l p', 'u l r', 'u l u', 'u l v', 'u l w', 'u n', 'u n b', 'u n c', 'u n e', 'u n f', 'u n g', 'u n h', 'u n j', 'u n k', 'u n l', 'u n n', 'u n p', 'u n q', 'u n r', 'u n u', 'u n v', 'u n w', 'u n z', 'u p', 'u p b', 'u p c', 'u p e', 'u p f', 'u p g', 'u p h', 'u p j', 'u p k', 'u p l', 'u p n', 'u p p', 'u p q', 'u p r', 'u p u', 'u p v', 'u p w', 'u q', 'u q u', 'u r', 'u r b', 'u r c', 'u r e', 'u r f', 'u r g', 'u r h', 'u r j', 'u r k', 'u r l', 'u r n', 'u r p', 'u r q', 'u r r', 'u r u', 'u r v', 'u r w', 'u r x', 'u u', 'u u b', 'u u c', 'u u e', 'u u f', 'u u g', 'u u h', 'u u j', 'u u k', 'u u l', 'u u n', 'u u p', 'u u r', 'u u u', 'u u w', 'u u z', 'u v', 'u v c', 'u v e', 'u v h', 'u v l', 'u v n', 'u w', 'u w b', 'u w c', 'u w e', 'u w f', 'u w g', 'u w h', 'u w k', 'u w l', 'u w n', 'u w p', 'u w r', 'u w u', 'u w v', 'u w w', 'u x', 'u x c', 'u x n', 'u z', 'u z b', 'u z c', 'u z e', 'u z f', 'u z g', 'u z h', 'u z k', 'u z l', 'u z n', 'u z p', 'u z r', 'u z u', 'u z w', 'u z z', 'v', 'v b', 'v b c', 'v b e', 'v b l', 'v b r', 'v c', 'v c b', 'v c e', 'v c h', 'v c k', 'v c l', 'v c n', 'v c r', 'v c u', 'v e', 'v e b', 'v e c', 'v e e', 'v e f', 'v e g', 'v e h', 'v e j', 'v e k', 'v e l', 'v e n', 'v e p', 'v e q', 'v e r', 'v e u', 'v e v', 'v e w', 'v e x', 'v e z', 'v f', 'v f r', 'v g', 'v g e', 'v g n', 'v g r', 'v g u', 'v g v', 'v h', 'v h e', 'v h n', 'v h w', 'v j', 'v k', 'v k e', 'v k n', 'v l', 'v l b', 'v l c', 'v l e', 'v l g', 'v l h', 'v l k', 'v l l', 'v l n', 'v l r', 'v l u', 'v l v', 'v l w', 'v n', 'v n b', 'v n c', 'v n e', 'v n f', 'v n g', 'v n h', 'v n k', 'v n l', 'v n n', 'v n p', 'v n r', 'v n u', 'v n w', 'v p', 'v p e', 'v p n', 'v p r', 'v p u', 'v r', 'v r c', 'v r e', 'v r f', 'v r g', 'v r h', 'v r l', 'v r n', 'v r p', 'v r u', 'v r w', 'v u', 'v u b', 'v u f', 'v u l', 'v u n', 'v u r', 'v v', 'v v e', 'v v l', 'v v n', 'v w', 'v w e', 'v w h', 'w', 'w b', 'w b b', 'w b c', 'w b e', 'w b f', 'w b g', 'w b h', 'w b k', 'w b l', 'w b n', 'w b r', 'w b u', 'w c', 'w c b', 'w c c', 'w c e', 'w c g', 'w c h', 'w c k', 'w c l', 'w c n', 'w c p', 'w c r', 'w c u', 'w c v', 'w c w', 'w e', 'w e b', 'w e c', 'w e e', 'w e f', 'w e g', 'w e h', 'w e j', 'w e k', 'w e l', 'w e n', 'w e p', 'w e r', 'w e u', 'w e v', 'w e w', 'w e x', 'w f', 'w f b', 'w f c', 'w f e', 'w f f', 'w f g', 'w f h', 'w f k', 'w f l', 'w f n', 'w f p', 'w f r', 'w f u', 'w f v', 'w f w', 'w g', 'w g b', 'w g c', 'w g e', 'w g f', 'w g g', 'w g h', 'w g k', 'w g l', 'w g n', 'w g p', 'w g r', 'w g u', 'w g v', 'w g w', 'w h', 'w h b', 'w h c', 'w h e', 'w h f', 'w h g', 'w h h', 'w h j', 'w h k', 'w h l', 'w h n', 'w h p', 'w h q', 'w h r', 'w h u', 'w h v', 'w h w', 'w h x', 'w j', 'w j c', 'w j e', 'w j u', 'w k', 'w k b', 'w k c', 'w k e', 'w k h', 'w k l', 'w k n', 'w k r', 'w k w', 'w l', 'w l b', 'w l c', 'w l e', 'w l f', 'w l g', 'w l h', 'w l k', 'w l l', 'w l n', 'w l p', 'w l r', 'w l u', 'w l v', 'w l w', 'w n', 'w n b', 'w n c', 'w n e', 'w n f', 'w n g', 'w n h', 'w n j', 'w n k', 'w n l', 'w n n', 'w n p', 'w n q', 'w n r', 'w n u', 'w n v', 'w n w', 'w p', 'w p b', 'w p c', 'w p e', 'w p h', 'w p l', 'w p n', 'w p p', 'w p r', 'w p u', 'w p w', 'w q', 'w q u', 'w r', 'w r b', 'w r c', 'w r e', 'w r f', 'w r g', 'w r h', 'w r k', 'w r l', 'w r n', 'w r p', 'w r r', 'w r u', 'w r v', 'w r w', 'w u', 'w u b', 'w u c', 'w u e', 'w u f', 'w u g', 'w u h', 'w u k', 'w u l', 'w u n', 'w u p', 'w u r', 'w u u', 'w u v', 'w u w', 'w v', 'w v e', 'w v n', 'w w', 'w w b', 'w w c', 'w w e', 'w w f', 'w w g', 'w w h', 'w w l', 'w w n', 'w w p', 'w w r', 'w w u', 'w w w', 'w x', 'w z', 'w z e', 'w z k', 'w z r', 'x', 'x b', 'x b b', 'x b c', 'x b e', 'x b r', 'x b u', 'x b x', 'x c', 'x c b', 'x c e', 'x c h', 'x c k', 'x c l', 'x c n', 'x c r', 'x c u', 'x e', 'x e b', 'x e c', 'x e e', 'x e f', 'x e g', 'x e h', 'x e l', 'x e n', 'x e p', 'x e r', 'x e u', 'x e w', 'x f', 'x f c', 'x f n', 'x f r', 'x f u', 'x g', 'x g e', 'x g h', 'x g r', 'x h', 'x h b', 'x h e', 'x h l', 'x h n', 'x h r', 'x h u', 'x h v', 'x j', 'x j u', 'x k', 'x k e', 'x l', 'x l b', 'x l e', 'x l k', 'x l l', 'x l n', 'x l v', 'x n', 'x n b', 'x n c', 'x n e', 'x n g', 'x n h', 'x n k', 'x n l', 'x n n', 'x n r', 'x n u', 'x p', 'x p e', 'x p l', 'x p n', 'x p r', 'x r', 'x r c', 'x r e', 'x r h', 'x r l', 'x r n', 'x r r', 'x r u', 'x u', 'x u c', 'x u h', 'x u l', 'x u n', 'x u p', 'x u r', 'x v', 'x v e', 'x w', 'x w e', 'x w h', 'x w n', 'x x', 'x x b', 'x x c', 'x x e', 'x x h', 'x x l', 'x x n', 'x x r', 'x x x', 'z', 'z b', 'z b c', 'z b e', 'z b l', 'z b r', 'z b u', 'z c', 'z c h', 'z c k', 'z c n', 'z c r', 'z e', 'z e b', 'z e c', 'z e e', 'z e f', 'z e g', 'z e h', 'z e k', 'z e l', 'z e n', 'z e p', 'z e r', 'z e u', 'z e v', 'z e w', 'z e x', 'z f', 'z f e', 'z f h', 'z f r', 'z f u', 'z g', 'z g e', 'z g n', 'z g r', 'z h', 'z h e', 'z h l', 'z h n', 'z h u', 'z h v', 'z h w', 'z j', 'z j u', 'z k', 'z k e', 'z l', 'z l e', 'z l k', 'z l l', 'z l n', 'z l w', 'z n', 'z n b', 'z n c', 'z n e', 'z n f', 'z n g', 'z n h', 'z n l', 'z n n', 'z n p', 'z n r', 'z n u', 'z n w', 'z p', 'z p e', 'z p p', 'z p r', 'z p u', 'z r', 'z r e', 'z r h', 'z r n', 'z r r', 'z u', 'z u c', 'z u g', 'z u h', 'z u l', 'z u n', 'z u r', 'z v', 'z v e', 'z w', 'z w e', 'z w h', 'z w l', 'z w n', 'z z', 'z z b', 'z z c', 'z z e', 'z z f', 'z z h', 'z z l', 'z z n', 'z z p', 'z z u', 'z z w', 'z z z']\n",
      "3420\n",
      "TfidfVectorizer(decode_error='replace', lowercase=False, max_df=0.75,\n",
      "                max_features=5000, min_df=5, ngram_range=(1, 3), norm=None,\n",
      "                smooth_idf=False, use_idf=False)\n"
     ]
    },
    {
     "data": {
      "text/plain": [
       "array([[1.29163073, 0.        , 0.        , ..., 1.        , 0.        ,\n",
       "        0.        ],\n",
       "       [2.58326146, 0.        , 0.        , ..., 1.        , 0.        ,\n",
       "        0.        ],\n",
       "       [2.58326146, 0.        , 0.        , ..., 2.        , 0.        ,\n",
       "        1.        ],\n",
       "       ...,\n",
       "       [1.29163073, 0.        , 0.        , ..., 0.        , 0.        ,\n",
       "        0.        ],\n",
       "       [1.29163073, 0.        , 0.        , ..., 0.        , 0.        ,\n",
       "        0.        ],\n",
       "       [2.58326146, 0.        , 0.        , ..., 0.        , 1.        ,\n",
       "        0.        ]])"
      ]
     },
     "execution_count": 2,
     "metadata": {},
     "output_type": "execute_result"
    }
   ],
   "source": [
    "import nltk\n",
    "nltk.download('stopwords')\n",
    "nltk.download('averaged_perceptron_tagger')\n",
    "nltk.download('vader_lexicon')\n",
    "\n",
    "result = process.dataPreprocessing(formattedData)\n",
    "\n",
    "result['M']\n"
   ]
  },
  {
   "cell_type": "markdown",
   "metadata": {},
   "source": [
    "## 3. Train the model\n",
    "\n",
    "Now we're going to train the model."
   ]
  },
  {
   "cell_type": "code",
   "execution_count": 11,
   "metadata": {},
   "outputs": [
    {
     "name": "stdout",
     "output_type": "stream",
     "text": [
      "Fitting 5 folds for each of 1 candidates, totalling 5 fits\n"
     ]
    },
    {
     "name": "stderr",
     "output_type": "stream",
     "text": [
      "[Parallel(n_jobs=1)]: Using backend SequentialBackend with 1 concurrent workers.\n",
      "[Parallel(n_jobs=1)]: Done   5 out of   5 | elapsed:   19.4s finished\n"
     ]
    }
   ],
   "source": [
    "result2 = process.buildModel(result)\n",
    "\n"
   ]
  },
  {
   "cell_type": "markdown",
   "metadata": {},
   "source": [
    "## 4. Evaluate the model"
   ]
  },
  {
   "cell_type": "code",
   "execution_count": 14,
   "metadata": {},
   "outputs": [
    {
     "name": "stdout",
     "output_type": "stream",
     "text": [
      "              precision    recall  f1-score   support\n",
      "\n",
      "           0       0.45      0.59      0.51       164\n",
      "           1       0.96      0.91      0.94      1905\n",
      "           2       0.83      0.94      0.88       410\n",
      "\n",
      "    accuracy                           0.89      2479\n",
      "   macro avg       0.75      0.81      0.77      2479\n",
      "weighted avg       0.91      0.89      0.90      2479\n",
      "\n"
     ]
    },
    {
     "data": {
      "image/png": "[encoded data removed]",
      "text/plain": [
       "<Figure size 360x360 with 1 Axes>"
      ]
     },
     "metadata": {
      "needs_background": "light"
     },
     "output_type": "display_data"
    }
   ],
   "source": [
    "result3 = process.evaluateModel(result2, datasetInfo['label'])"
   ]
  },
  {
   "cell_type": "markdown",
   "metadata": {},
   "source": [
    "## 5. See the classification result and see there's bias\n",
    "\n",
    "Now we're going to use the model to classify a totally new tweet dataset. To do that, we are going to import another dataset, predict, and see the result"
   ]
  },
  {
   "cell_type": "markdown",
   "metadata": {},
   "source": [
    "## 5-1. Import dataset"
   ]
  },
  {
   "cell_type": "code",
   "execution_count": 16,
   "metadata": {},
   "outputs": [],
   "source": [
    "import pandas as pd\n",
    "\n",
    "filepath='./blackTweets_0.5.txt'\n",
    "tweetList = []\n",
    "\n",
    "cnt = 0\n",
    "\n",
    "with open(filepath) as fp:\n",
    "    for line in fp :\n",
    "        tweetList.append(line.strip())\n",
    "        cnt = cnt + 1\n",
    "        \n",
    "        line = fp.readline()\n",
    "\n",
    "blackTweet = pd.DataFrame(data={'tweet': tweetList, 'class': [0 for i in range(len(tweetList))]})\n",
    "\n",
    "filepath='./whiteTweets_0.5.txt'\n",
    "tweetList = []\n",
    "\n",
    "cnt = 0\n",
    "\n",
    "with open(filepath) as fp:\n",
    "    for line in fp :\n",
    "        tweetList.append(line.strip())\n",
    "        cnt = cnt + 1\n",
    "        \n",
    "        line = fp.readline()\n",
    "\n",
    "whiteTweet = pd.DataFrame(data={'tweet': tweetList, 'class': [1 for i in range(len(tweetList))]})"
   ]
  },
  {
   "cell_type": "markdown",
   "metadata": {},
   "source": [
    "# Disucssion items\n",
    "\n",
    "### Dataset, Model, and Performance\n",
    "\n",
    "0. Explore the raw tweets. What did you observe? Was there any significant difference on tweets between classes?\n",
    "\n",
    "1. Let's say we released the trained logistic regression model, which has been initially given without debiasing techniques, for twitter contents moderation. \n",
    "    1-1. What do you expect?\n",
    "    1-2. What would be possible consequences?\n",
    "    1-3. Do you think it is socially acceptable?\n",
    "    1-4. If you think it needs to be improved, what would be the possible solution?\n",
    "\n",
    "2. The dataset is highly skewed. The dataset1 contains 80% of \"Abusive\" tweets, but the dataset 2 contains only 5% of \"hateful\" tweets.\n",
    "    2-1. The way we collect the data significantly affects such skew as well as the overall distribution of labels. Why do we observe such skew for these two specific datasets? You may want to refer to the data collection methods described in the paper.\n",
    "    2-2. How does the skewness need to be handled? Is it an ultimate goal to reduce such skew and balance all the labels? Then how can we determine whether the current dataset is enough (i.e. balanced)?\n",
    "    2-3. Let's say you are going to collect dataset again to train the logistic regression model. How would you design the data collection pipeline? Explain the rationale.\n",
    "\n",
    "3. Do you think the way we train the model (i.e. data preprocessing and the model selection) contributed to the biased result? Note that we have used n-grams (n <= 3) as a vocabulary and TF-IDF as the feature.\n",
    "\n",
    "4. The trained logistic regression model performed pretty well (weighted avg of F1-score: XYZ), although the model gives a racially biased prediction result.\n",
    "    4-1. One might say that model performance was enough to be deployed, so we can conclude that the African-American English is more hateful and abusive. Discuss.\n",
    "\n",
    "5. What would be the possible source of bias?\n",
    "    5-1. Dataset: \n",
    "    5-2. Preprocessing:\n",
    "    5-3. Model:\n",
    "    5-4. Measuring performance:\n",
    "    5-5. Measuring Bias:\n",
    "\n",
    "\n",
    "### Measuring bias\n",
    "\n",
    "6. We used XYZ to measure the bias. Discuss what is captured well and what's not captured for each measure. Also, discuss which measures we need to use for which situations.\n",
    "\n",
    "7. Would it be okay to optimize towards a single bias measure? When do you think it is acceptable? When not?\n",
    "\n",
    "8. Have you observed anything on relationship between the model performance and bias measure, even it is not significant in our assignment? If so, describe it with your opinions on why such relationship could exist.\n",
    "\n",
    "\n",
    "\n",
    "### Debiasing\n",
    "\n",
    "9. We introduced two debiasing techniques, undersampling and post-processing. \n",
    "    1-1. Why do you think undersampling reduced a measure of bias? Can you imagine when it doesn't work?\n",
    "    1-2. Why do you think the post-processing reduced a measure of bias? Can you imagine when it doesn't work?\n",
    "\n",
    "10. The measure of bias on \"Hateful\" label increased whereas that on \"Abusive\" gets decreased. Why do you think it happened? Can we achieve the measures on both label get improved?\n",
    "\n",
    "11. Is debiasing always necessary? When do we need debiasing? When not?\n",
    "\n",
    "12. Is there 'completely unbiased' prediction results? What does that mean?\n",
    "\n",
    "\n",
    "### Overall process of this assignment\n",
    "\n",
    "13. We used AAE/SAE classifier throughout the process. How can it affect the result?\n",
    "\n",
    "\n",
    "\n"
   ]
  },
  {
   "cell_type": "code",
   "execution_count": null,
   "metadata": {},
   "outputs": [],
   "source": [
    "\n"
   ]
  }
 ],
 "metadata": {
  "kernelspec": {
   "display_name": "Python 3",
   "language": "python",
   "name": "python3"
  },
  "language_info": {
   "codemirror_mode": {
    "name": "ipython",
    "version": 3
   },
   "file_extension": ".py",
   "mimetype": "text/x-python",
   "name": "python",
   "nbconvert_exporter": "python",
   "pygments_lexer": "ipython3",
   "version": "3.7.7"
  }
 },
 "nbformat": 4,
 "nbformat_minor": 4
}
