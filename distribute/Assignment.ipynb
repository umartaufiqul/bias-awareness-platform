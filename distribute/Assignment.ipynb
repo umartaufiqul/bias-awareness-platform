{
 "cells": [
  {
   "cell_type": "markdown",
   "metadata": {},
   "source": [
    "# CS492 Assignment #1: [ Project Title ] (Due XYZ)\n",
    "\n",
    "## What is this?\n",
    "\n",
    "This jupyter notebook describes the overall process of the assignment, including (1) detailed explanations about the motivation scenario along with codes and (2) skeleton codes that you are required to fill in. Two deliverables need to be submitted: this jupyter notebook and the discussion. You do not need to explicitly submit this jupyter notebook as our server keeps track of it. Make sure you submit the discussion on KLMS.\n",
    "\n",
    "In this assignment, students are required to implement the following three functions. We are going to provide a specific algorithm for you to implement so that the task is not open-ended but concrete enough. Specific precondition and postcondition of the functions are going to be explained later.\n",
    "\n",
    "* `getBiasScore(predictionResultTable)` : Given a prediction result that describes whether tweets are abusive depending on tweets' dialects, returns a numerical score representing the bias. \n",
    "\n",
    "* `undersampleData(trainingData, dialectClassifier, dialectLabel, ratio)` : Returns a dataset that undersampling has been performed. In other words, randomly select `ratio` portion of samples of tweets written in the dialect `dialectLabel` on the dataset `trainingData`. The tweets written in other dialect should remain as the original dataset. `languageClassifier` is used for predicting a dialect of tweets, which is going to be explained later.\n",
    "\n",
    "* `processPredictionResult(predictionResult, majorLabel, minorLabel, theta)` : returns a processed prediction result in a way that it mitigates the bias. Conceptually, we are going to apply different thresholds across labels.\n",
    "\n",
    "Please note that the objective of this assignment is not to optimize the score of bias but to experiment your own ideas around data analysis and bias mitigation, although we explicitly ask you to implement functions for the sake of assignment. Therefore, It is completely okay to revise the existing codes, and even it is highly encouraged to try things out across multiple stages of machine learning pipeline to mitigate bias. Please explore as much as you can, and write the exploration on the discussion.\n",
    "\n",
    "Also, the dataset and overall process of this assignment has been borrowed from a set of references and tuned to present more evident results on educational purpose. Although we are dealing with the real data and existing techniques, results in this assignment do not represent the real world: we cannot directly generalize our observations in this assignment. Please focus on methodological aspects of dealing with bias. You may want to discuss limitations of the overall process of this assignment as well."
   ]
  },
  {
   "cell_type": "markdown",
   "metadata": {},
   "source": [
    "## Overall procedure of the assignment\n",
    "\n",
    "The objective of this assignment is (1) to figure out that the model's prediction is biased with respect to dialects of tweets and (2) to mitigate such bias. To accomplish the objective, we are going to follow the procedure below.\n",
    "\n",
    "    1. Import dataset\n",
    "    \n",
    "    2. Preprocess the dataset    \n",
    "    \n",
    "    3. Train a model             \n",
    "    \n",
    "    4. Evaluate the model\n",
    "    \n",
    "    5. Check whether the model is biased with respect to dialects\n",
    "    \n",
    "    6. Investigate why such bias happens\n",
    "    \n",
    "    7. Mitigate the bias\n",
    "        \n",
    "Let's go over each step!"
   ]
  },
  {
   "cell_type": "markdown",
   "metadata": {},
   "source": [
    "## 1. Import dataset"
   ]
  },
  {
   "cell_type": "markdown",
   "metadata": {},
   "source": [
    "We first import the dataset to train a model. We provide three datasets in total, but your tasks in this assignment are going to focus on a single dataset named `david.csv`. In other words, you don't need to perform measuring/mitigating bias on the other two datasets, although the same techniques can be applied. \n",
    "\n",
    "We are going to first read `david.csv` file. You can refer to [the original data](). Then we format the data to feed it to the model training stage. Here, the data formatting means that the label column name should be \"class\", and tweet column name should be \"tweet\". We are not going to use other columns."
   ]
  },
  {
   "cell_type": "code",
   "execution_count": 24,
   "metadata": {},
   "outputs": [
    {
     "data": {
      "text/html": [
       "<div>\n",
       "<style scoped>\n",
       "    .dataframe tbody tr th:only-of-type {\n",
       "        vertical-align: middle;\n",
       "    }\n",
       "\n",
       "    .dataframe tbody tr th {\n",
       "        vertical-align: top;\n",
       "    }\n",
       "\n",
       "    .dataframe thead th {\n",
       "        text-align: right;\n",
       "    }\n",
       "</style>\n",
       "<table border=\"1\" class=\"dataframe\">\n",
       "  <thead>\n",
       "    <tr style=\"text-align: right;\">\n",
       "      <th></th>\n",
       "      <th>class</th>\n",
       "      <th>tweet</th>\n",
       "    </tr>\n",
       "  </thead>\n",
       "  <tbody>\n",
       "    <tr>\n",
       "      <th>0</th>\n",
       "      <td>2</td>\n",
       "      <td>!!! RT @mayasolovely: As a woman you shouldn't...</td>\n",
       "    </tr>\n",
       "    <tr>\n",
       "      <th>1</th>\n",
       "      <td>1</td>\n",
       "      <td>!!!!! RT @mleew17: boy dats cold...tyga dwn ba...</td>\n",
       "    </tr>\n",
       "    <tr>\n",
       "      <th>2</th>\n",
       "      <td>1</td>\n",
       "      <td>!!!!!!! RT @UrKindOfBrand Dawg!!!! RT @80sbaby...</td>\n",
       "    </tr>\n",
       "    <tr>\n",
       "      <th>3</th>\n",
       "      <td>1</td>\n",
       "      <td>!!!!!!!!! RT @C_G_Anderson: @viva_based she lo...</td>\n",
       "    </tr>\n",
       "    <tr>\n",
       "      <th>4</th>\n",
       "      <td>1</td>\n",
       "      <td>!!!!!!!!!!!!! RT @ShenikaRoberts: The shit you...</td>\n",
       "    </tr>\n",
       "    <tr>\n",
       "      <th>...</th>\n",
       "      <td>...</td>\n",
       "      <td>...</td>\n",
       "    </tr>\n",
       "    <tr>\n",
       "      <th>24778</th>\n",
       "      <td>1</td>\n",
       "      <td>you's a muthaf***in lie &amp;#8220;@LifeAsKing: @2...</td>\n",
       "    </tr>\n",
       "    <tr>\n",
       "      <th>24779</th>\n",
       "      <td>2</td>\n",
       "      <td>you've gone and broke the wrong heart baby, an...</td>\n",
       "    </tr>\n",
       "    <tr>\n",
       "      <th>24780</th>\n",
       "      <td>1</td>\n",
       "      <td>young buck wanna eat!!.. dat nigguh like I ain...</td>\n",
       "    </tr>\n",
       "    <tr>\n",
       "      <th>24781</th>\n",
       "      <td>1</td>\n",
       "      <td>youu got wild bitches tellin you lies</td>\n",
       "    </tr>\n",
       "    <tr>\n",
       "      <th>24782</th>\n",
       "      <td>2</td>\n",
       "      <td>~~Ruffled | Ntac Eileen Dahlia - Beautiful col...</td>\n",
       "    </tr>\n",
       "  </tbody>\n",
       "</table>\n",
       "<p>24783 rows × 2 columns</p>\n",
       "</div>"
      ],
      "text/plain": [
       "       class                                              tweet\n",
       "0          2  !!! RT @mayasolovely: As a woman you shouldn't...\n",
       "1          1  !!!!! RT @mleew17: boy dats cold...tyga dwn ba...\n",
       "2          1  !!!!!!! RT @UrKindOfBrand Dawg!!!! RT @80sbaby...\n",
       "3          1  !!!!!!!!! RT @C_G_Anderson: @viva_based she lo...\n",
       "4          1  !!!!!!!!!!!!! RT @ShenikaRoberts: The shit you...\n",
       "...      ...                                                ...\n",
       "24778      1  you's a muthaf***in lie &#8220;@LifeAsKing: @2...\n",
       "24779      2  you've gone and broke the wrong heart baby, an...\n",
       "24780      1  young buck wanna eat!!.. dat nigguh like I ain...\n",
       "24781      1              youu got wild bitches tellin you lies\n",
       "24782      2  ~~Ruffled | Ntac Eileen Dahlia - Beautiful col...\n",
       "\n",
       "[24783 rows x 2 columns]"
      ]
     },
     "execution_count": 24,
     "metadata": {},
     "output_type": "execute_result"
    }
   ],
   "source": [
    "import process\n",
    "\n",
    "datasetInfo = {\n",
    "    'filename': 'http://3.35.21.90:3000/bias-awareness-platform/david.csv',                         # The filename\n",
    "    'label': ['Hateful', 'Offensive', 'Neither']     # Labels (0: Hateful, 1: Offensive, 2: Neither)\n",
    "}\n",
    "\n",
    "################################################################\n",
    "# We also have the following two datasets. Please use these datasets for your exploration.\n",
    "\n",
    "#datasetInfo = {\n",
    "#    'filename': 'hatespeech.csv',      \n",
    "#    'label': ['Normal', 'Hateful']     \n",
    "#}\n",
    "\n",
    "#datasetInfo = {\n",
    "#    'filename': 'sentiment.csv',       \n",
    "#    'label': ['Negative', 'Positive']  \n",
    "#}\n",
    "###############################################################\n",
    "\n",
    "\n",
    "data = process.dataImporting(datasetInfo['filename'])    # read the dataset.\n",
    "                                                         # process.py is also included in the root directory\n",
    "    \n",
    "formattedData = process.dataFormatting(data, datasetInfo)     # format the dataset\n",
    "    \n",
    "formattedData"
   ]
  },
  {
   "cell_type": "markdown",
   "metadata": {},
   "source": [
    "## 1-1. Sample the data (Task 2)\n",
    "\n",
    "\\*\\*\\* **Please proceed until step 5-4 if you haven't. Then come back to this step. You can simply skip this section to understand the overall procedure** \\*\\*\\*\n",
    "\n",
    "To reduce the bias, we are going to sample only a part of offensive tweets written in AAE. (I'm still working here)"
   ]
  },
  {
   "cell_type": "code",
   "execution_count": 45,
   "metadata": {},
   "outputs": [
    {
     "data": {
      "text/html": [
       "<div>\n",
       "<style scoped>\n",
       "    .dataframe tbody tr th:only-of-type {\n",
       "        vertical-align: middle;\n",
       "    }\n",
       "\n",
       "    .dataframe tbody tr th {\n",
       "        vertical-align: top;\n",
       "    }\n",
       "\n",
       "    .dataframe thead th {\n",
       "        text-align: right;\n",
       "    }\n",
       "</style>\n",
       "<table border=\"1\" class=\"dataframe\">\n",
       "  <thead>\n",
       "    <tr style=\"text-align: right;\">\n",
       "      <th></th>\n",
       "      <th>class</th>\n",
       "      <th>tweet</th>\n",
       "    </tr>\n",
       "  </thead>\n",
       "  <tbody>\n",
       "    <tr>\n",
       "      <th>3246</th>\n",
       "      <td>1</td>\n",
       "      <td>@Get__Em__Craig I hear ya hoe</td>\n",
       "    </tr>\n",
       "    <tr>\n",
       "      <th>23440</th>\n",
       "      <td>1</td>\n",
       "      <td>You wanna watch the game she wanna watch #scan...</td>\n",
       "    </tr>\n",
       "    <tr>\n",
       "      <th>14697</th>\n",
       "      <td>1</td>\n",
       "      <td>RT @ChubbyGirlGod: Lmaoo RT @patpatbush: That ...</td>\n",
       "    </tr>\n",
       "    <tr>\n",
       "      <th>19119</th>\n",
       "      <td>1</td>\n",
       "      <td>RT @iAMxJONES: I know where I would be tonight...</td>\n",
       "    </tr>\n",
       "    <tr>\n",
       "      <th>7605</th>\n",
       "      <td>1</td>\n",
       "      <td>All of my money neat all of my bitches freaky ...</td>\n",
       "    </tr>\n",
       "    <tr>\n",
       "      <th>...</th>\n",
       "      <td>...</td>\n",
       "      <td>...</td>\n",
       "    </tr>\n",
       "    <tr>\n",
       "      <th>24771</th>\n",
       "      <td>1</td>\n",
       "      <td>you look like your 12 stop talking about fucki...</td>\n",
       "    </tr>\n",
       "    <tr>\n",
       "      <th>24776</th>\n",
       "      <td>0</td>\n",
       "      <td>you're all niggers</td>\n",
       "    </tr>\n",
       "    <tr>\n",
       "      <th>24777</th>\n",
       "      <td>0</td>\n",
       "      <td>you're such a retard i hope you get type 2 dia...</td>\n",
       "    </tr>\n",
       "    <tr>\n",
       "      <th>24779</th>\n",
       "      <td>2</td>\n",
       "      <td>you've gone and broke the wrong heart baby, an...</td>\n",
       "    </tr>\n",
       "    <tr>\n",
       "      <th>24782</th>\n",
       "      <td>2</td>\n",
       "      <td>~~Ruffled | Ntac Eileen Dahlia - Beautiful col...</td>\n",
       "    </tr>\n",
       "  </tbody>\n",
       "</table>\n",
       "<p>21008 rows × 2 columns</p>\n",
       "</div>"
      ],
      "text/plain": [
       "       class                                              tweet\n",
       "3246       1                      @Get__Em__Craig I hear ya hoe\n",
       "23440      1  You wanna watch the game she wanna watch #scan...\n",
       "14697      1  RT @ChubbyGirlGod: Lmaoo RT @patpatbush: That ...\n",
       "19119      1  RT @iAMxJONES: I know where I would be tonight...\n",
       "7605       1  All of my money neat all of my bitches freaky ...\n",
       "...      ...                                                ...\n",
       "24771      1  you look like your 12 stop talking about fucki...\n",
       "24776      0                                 you're all niggers\n",
       "24777      0  you're such a retard i hope you get type 2 dia...\n",
       "24779      2  you've gone and broke the wrong heart baby, an...\n",
       "24782      2  ~~Ruffled | Ntac Eileen Dahlia - Beautiful col...\n",
       "\n",
       "[21008 rows x 2 columns]"
      ]
     },
     "execution_count": 45,
     "metadata": {},
     "output_type": "execute_result"
    }
   ],
   "source": [
    "import twitteraae.code.dialectPrediction as dialectPrediction\n",
    "import pandas as pd\n",
    "\n",
    "def undersampleData(trainingData, dialectClassifier, majorAbusiveClass, majorDialectClass, ratio) :\n",
    "    returnValue = trainingData\n",
    "    \n",
    "    # Answer\n",
    "    \n",
    "    dialectPrediction.load_model()\n",
    "    \n",
    "    def determineDialect(tweet) :\n",
    "        # returns a label of the dialect prediction\n",
    "\n",
    "        pred = dialectPrediction.predict(tweet.split())\n",
    "\n",
    "        if pred is None :\n",
    "            return 'Unknown'\n",
    "\n",
    "\n",
    "        if pred[0] >= 0.5 :\n",
    "            return 'AAE'\n",
    "        elif pred[3] >= 0.5 :\n",
    "            return 'SAE'\n",
    "        else:\n",
    "            return 'Unknown'\n",
    "\n",
    "    datasetWithGroups = pd.concat([trainingData, \n",
    "\n",
    "                                   pd.DataFrame([ determineDialect(t) for t in trainingData['tweet'] ], columns=['dialect']\n",
    "\n",
    "                                   )\n",
    "                                  ], axis=1)\n",
    "    \n",
    "    datasetToUndersample = datasetWithGroups.loc[(datasetWithGroups['dialect'] == majorDialectClass) & (datasetWithGroups['class'] == majorAbusiveClass)]\n",
    "    datasetToRemain = datasetWithGroups.loc[list(set(datasetWithGroups.index) - set(datasetToUndersample.index))]\n",
    "\n",
    "    # Now we need to randomly undersample 'datasetWithMajorLabel', remaining datasetWihtoutMajorLabel\n",
    "    \n",
    "    datasetToUndersample = datasetToUndersample.sample(n=(int(datasetToUndersample.shape[0] * ratio)))\n",
    "    \n",
    "    concatenated = pd.concat([datasetToUndersample, datasetToRemain]).drop(['dialect'], axis=1)\n",
    "    \n",
    "    return concatenated\n",
    "\n",
    "undersampledData = undersampleData(formattedData, dialectPrediction, 1, 'AAE', 0.5)\n",
    "\n",
    "undersampledData"
   ]
  },
  {
   "cell_type": "markdown",
   "metadata": {},
   "source": [
    "## 2. Preprocess the dataset\n",
    "\n",
    "The datasets need preprocessing to train a model. The methods of preprocessing can be creative and it depends on the model we choose. This assignment is going to use Logistic Regression model. To use the model, we are going to vectorize the tweet text (i.e. a text is converted into a set of numerical values, say features) so that a Logistic Regression model can be trained. To vectorize text, we are going to use [TF-IDF]() with [n-grams]() (1 $\\leq$ n $\\leq$ 3)."
   ]
  },
  {
   "cell_type": "code",
   "execution_count": 46,
   "metadata": {},
   "outputs": [
    {
     "name": "stderr",
     "output_type": "stream",
     "text": [
      "[nltk_data] Downloading package stopwords to /home/ubuntu/nltk_data...\n",
      "[nltk_data]   Package stopwords is already up-to-date!\n",
      "[nltk_data] Downloading package averaged_perceptron_tagger to\n",
      "[nltk_data]     /home/ubuntu/nltk_data...\n",
      "[nltk_data]   Package averaged_perceptron_tagger is already up-to-\n",
      "[nltk_data]       date!\n",
      "[nltk_data] Downloading package vader_lexicon to\n",
      "[nltk_data]     /home/ubuntu/nltk_data...\n",
      "[nltk_data]   Package vader_lexicon is already up-to-date!\n",
      "/home/ubuntu/anaconda3/envs/jupyterhub_prime/lib/python3.7/site-packages/sklearn/feature_extraction/text.py:386: UserWarning: Your stop_words may be inconsistent with your preprocessing. Tokenizing the stop words generated tokens ['b', 'c', 'e', 'f', 'g', 'h', 'j', 'l', 'n', 'p', 'r', 'u', 'v', 'w'] not in stop_words.\n",
      "  'stop_words.' % sorted(inconsistent))\n"
     ]
    },
    {
     "data": {
      "text/plain": [
       "array([[0.        , 0.        , 0.        , ..., 1.        , 0.        ,\n",
       "        0.        ],\n",
       "       [3.88790137, 0.        , 0.        , ..., 0.        , 0.        ,\n",
       "        0.        ],\n",
       "       [1.29596712, 0.        , 0.        , ..., 3.        , 1.        ,\n",
       "        0.        ],\n",
       "       ...,\n",
       "       [1.29596712, 0.        , 0.        , ..., 1.        , 0.        ,\n",
       "        0.        ],\n",
       "       [3.88790137, 3.90166915, 0.        , ..., 0.        , 0.        ,\n",
       "        1.        ],\n",
       "       [2.59193425, 0.        , 0.        , ..., 0.        , 1.        ,\n",
       "        0.        ]])"
      ]
     },
     "execution_count": 46,
     "metadata": {},
     "output_type": "execute_result"
    }
   ],
   "source": [
    "preprocessingResult = process.dataPreprocessing(undersampledData)\n",
    "\n",
    "# process.dataPreprocessing returns not only a matrix that our original dataset has been converted into,\n",
    "#                                   but also vectorizers, which is a function that translates a tweet into a vector.\n",
    "\n",
    "# Detailed codes describing how to exactly preprocess the data can be found in process.py\n",
    "\n",
    "preprocessingResult['M']    # the matrix"
   ]
  },
  {
   "cell_type": "code",
   "execution_count": 47,
   "metadata": {},
   "outputs": [
    {
     "data": {
      "text/plain": [
       "(21008, 3915)"
      ]
     },
     "execution_count": 47,
     "metadata": {},
     "output_type": "execute_result"
    }
   ],
   "source": [
    "preprocessingResult['M'].shape"
   ]
  },
  {
   "cell_type": "markdown",
   "metadata": {},
   "source": [
    "## 3. Train a model\n",
    "\n",
    "Using the matrix that consists of a set of vectors, we are going to train a Logistic Regression model. We first split the matrix into two: ($X_{training}$, $y_{training}$) and ($X_{testing}$, $y_{testing}$) to train and evaluate the model where $X$ refers to a set of features and $y$ refers to the target label. During the training, we tune the model parameter to achieve better performance. We used a random grid search with 5-fold cross validation."
   ]
  },
  {
   "cell_type": "code",
   "execution_count": 48,
   "metadata": {},
   "outputs": [
    {
     "name": "stdout",
     "output_type": "stream",
     "text": [
      "Fitting 5 folds for each of 1 candidates, totalling 5 fits\n"
     ]
    },
    {
     "name": "stderr",
     "output_type": "stream",
     "text": [
      "[Parallel(n_jobs=1)]: Using backend SequentialBackend with 1 concurrent workers.\n",
      "[Parallel(n_jobs=1)]: Done   5 out of   5 | elapsed:   38.7s finished\n"
     ]
    }
   ],
   "source": [
    "modelResult = process.buildModel(preprocessingResult)\n",
    "\n"
   ]
  },
  {
   "cell_type": "markdown",
   "metadata": {},
   "source": [
    "## 4. Evaluate the model\n",
    "\n",
    "Now we evaluate the model to see the performance. The result shows the model performance (precision, recall, f1-score) and the confusion matrix."
   ]
  },
  {
   "cell_type": "code",
   "execution_count": 49,
   "metadata": {},
   "outputs": [
    {
     "name": "stdout",
     "output_type": "stream",
     "text": [
      "              precision    recall  f1-score   support\n",
      "\n",
      "           0       0.35      0.39      0.37       149\n",
      "           1       0.91      0.86      0.88      1525\n",
      "           2       0.69      0.82      0.75       427\n",
      "\n",
      "    accuracy                           0.81      2101\n",
      "   macro avg       0.65      0.69      0.67      2101\n",
      "weighted avg       0.83      0.81      0.82      2101\n",
      "\n"
     ]
    },
    {
     "data": {
      "image/png": "[encoded data removed]",
      "text/plain": [
       "<Figure size 360x360 with 1 Axes>"
      ]
     },
     "metadata": {
      "needs_background": "light"
     },
     "output_type": "display_data"
    }
   ],
   "source": [
    "evaluationResult = process.evaluateModel(modelResult, datasetInfo['label'])"
   ]
  },
  {
   "cell_type": "markdown",
   "metadata": {},
   "source": [
    "## 5. Check whether the model is biased with respect to dialects\n",
    "\n",
    "Now we have a trained model, which can be used for moderating tweets. Let's check whether the model is biased with respect to dialects, African-American English and Standard American English. Here, the meaning of \"our model is biased\" means that __our model prediction gives different distribution across the dialects. (needs comment from you guys: do you think it is reasonable?)__. For example, if our model tends to predict a large portion of tweets in AAE as abusive whereas a large portion of tweets in SAE as neither, then we can say our model is biased (assuming the data collection method of tweet does not have any bias between AAE and SAE). \n",
    "\n",
    "Now we're going to use the trained model to classify a totally new tweet dataset. The data contains a label that represents the dialect. Note that we do not have the ground truth label on the tweet's abusiveness, because we don't actually know the ground truth of a tweet which we are going to apply our model. Therefore, we cannot measure any model performance (i.e. precision, recall, f1-score) with this new dataset, but we can only check the bias."
   ]
  },
  {
   "cell_type": "markdown",
   "metadata": {},
   "source": [
    "### 5-1. Import dataset"
   ]
  },
  {
   "cell_type": "code",
   "execution_count": 50,
   "metadata": {
    "scrolled": true
   },
   "outputs": [
    {
     "data": {
      "text/html": [
       "<div>\n",
       "<style scoped>\n",
       "    .dataframe tbody tr th:only-of-type {\n",
       "        vertical-align: middle;\n",
       "    }\n",
       "\n",
       "    .dataframe tbody tr th {\n",
       "        vertical-align: top;\n",
       "    }\n",
       "\n",
       "    .dataframe thead th {\n",
       "        text-align: right;\n",
       "    }\n",
       "</style>\n",
       "<table border=\"1\" class=\"dataframe\">\n",
       "  <thead>\n",
       "    <tr style=\"text-align: right;\">\n",
       "      <th></th>\n",
       "      <th>tweet</th>\n",
       "      <th>class</th>\n",
       "    </tr>\n",
       "  </thead>\n",
       "  <tbody>\n",
       "    <tr>\n",
       "      <th>0</th>\n",
       "      <td>no Goodmorning text !!</td>\n",
       "      <td>0</td>\n",
       "    </tr>\n",
       "    <tr>\n",
       "      <th>1</th>\n",
       "      <td>Waffle House bout to grub \\ud83d\\ude0b\\ud83d\\u...</td>\n",
       "      <td>0</td>\n",
       "    </tr>\n",
       "    <tr>\n",
       "      <th>2</th>\n",
       "      <td>@motionlessinwim Damn straight.</td>\n",
       "      <td>0</td>\n",
       "    </tr>\n",
       "    <tr>\n",
       "      <th>3</th>\n",
       "      <td>Can't trust these bitches \\ud83d\\ude45</td>\n",
       "      <td>0</td>\n",
       "    </tr>\n",
       "    <tr>\n",
       "      <th>4</th>\n",
       "      <td>I still can't get over #oomf Avi's \\ud83d\\ude0d</td>\n",
       "      <td>0</td>\n",
       "    </tr>\n",
       "    <tr>\n",
       "      <th>...</th>\n",
       "      <td>...</td>\n",
       "      <td>...</td>\n",
       "    </tr>\n",
       "    <tr>\n",
       "      <th>1995</th>\n",
       "      <td>@Rello_Lee everybody that watched that game Wi...</td>\n",
       "      <td>1</td>\n",
       "    </tr>\n",
       "    <tr>\n",
       "      <th>1996</th>\n",
       "      <td>The power of the STACHE!</td>\n",
       "      <td>1</td>\n",
       "    </tr>\n",
       "    <tr>\n",
       "      <th>1997</th>\n",
       "      <td>It's crazy to think that you were someone's mi...</td>\n",
       "      <td>1</td>\n",
       "    </tr>\n",
       "    <tr>\n",
       "      <th>1998</th>\n",
       "      <td>I feel so much better about life when my hair ...</td>\n",
       "      <td>1</td>\n",
       "    </tr>\n",
       "    <tr>\n",
       "      <th>1999</th>\n",
       "      <td>@callieegurski @bran_mor21 @ethangurski @gursk...</td>\n",
       "      <td>1</td>\n",
       "    </tr>\n",
       "  </tbody>\n",
       "</table>\n",
       "<p>2000 rows × 2 columns</p>\n",
       "</div>"
      ],
      "text/plain": [
       "                                                  tweet  class\n",
       "0                                no Goodmorning text !!      0\n",
       "1     Waffle House bout to grub \\ud83d\\ude0b\\ud83d\\u...      0\n",
       "2                       @motionlessinwim Damn straight.      0\n",
       "3                Can't trust these bitches \\ud83d\\ude45      0\n",
       "4       I still can't get over #oomf Avi's \\ud83d\\ude0d      0\n",
       "...                                                 ...    ...\n",
       "1995  @Rello_Lee everybody that watched that game Wi...      1\n",
       "1996                           The power of the STACHE!      1\n",
       "1997  It's crazy to think that you were someone's mi...      1\n",
       "1998  I feel so much better about life when my hair ...      1\n",
       "1999  @callieegurski @bran_mor21 @ethangurski @gursk...      1\n",
       "\n",
       "[2000 rows x 2 columns]"
      ]
     },
     "execution_count": 50,
     "metadata": {},
     "output_type": "execute_result"
    }
   ],
   "source": [
    "import pandas as pd\n",
    "\n",
    "filepath='http://3.35.21.90:3000/bias-awareness-platform/testTweet.csv'\n",
    "testTweet = pd.read_csv(filepath)      # class 0: AAE,  class 1: SSE\n",
    "\n",
    "testTweet"
   ]
  },
  {
   "cell_type": "markdown",
   "metadata": {},
   "source": [
    "### 5-2. Preprocess the tweet and perform prediction with the model\n",
    "\n",
    "We need to vectorize all the tweets and make prediction with the trained model.\n",
    "\n"
   ]
  },
  {
   "cell_type": "code",
   "execution_count": 60,
   "metadata": {
    "scrolled": true
   },
   "outputs": [
    {
     "data": {
      "text/html": [
       "<div>\n",
       "<style scoped>\n",
       "    .dataframe tbody tr th:only-of-type {\n",
       "        vertical-align: middle;\n",
       "    }\n",
       "\n",
       "    .dataframe tbody tr th {\n",
       "        vertical-align: top;\n",
       "    }\n",
       "\n",
       "    .dataframe thead th {\n",
       "        text-align: right;\n",
       "    }\n",
       "</style>\n",
       "<table border=\"1\" class=\"dataframe\">\n",
       "  <thead>\n",
       "    <tr style=\"text-align: right;\">\n",
       "      <th></th>\n",
       "      <th>tweet</th>\n",
       "      <th>class</th>\n",
       "      <th>predLabel</th>\n",
       "      <th>0</th>\n",
       "      <th>1</th>\n",
       "      <th>2</th>\n",
       "    </tr>\n",
       "  </thead>\n",
       "  <tbody>\n",
       "    <tr>\n",
       "      <th>0</th>\n",
       "      <td>no Goodmorning text !!</td>\n",
       "      <td>0</td>\n",
       "      <td>1</td>\n",
       "      <td>0.103642</td>\n",
       "      <td>0.631815</td>\n",
       "      <td>0.264543</td>\n",
       "    </tr>\n",
       "    <tr>\n",
       "      <th>1</th>\n",
       "      <td>Waffle House bout to grub \\ud83d\\ude0b\\ud83d\\u...</td>\n",
       "      <td>0</td>\n",
       "      <td>2</td>\n",
       "      <td>0.062526</td>\n",
       "      <td>0.278881</td>\n",
       "      <td>0.658594</td>\n",
       "    </tr>\n",
       "    <tr>\n",
       "      <th>2</th>\n",
       "      <td>@motionlessinwim Damn straight.</td>\n",
       "      <td>0</td>\n",
       "      <td>1</td>\n",
       "      <td>0.276229</td>\n",
       "      <td>0.534512</td>\n",
       "      <td>0.189259</td>\n",
       "    </tr>\n",
       "    <tr>\n",
       "      <th>3</th>\n",
       "      <td>Can't trust these bitches \\ud83d\\ude45</td>\n",
       "      <td>0</td>\n",
       "      <td>1</td>\n",
       "      <td>0.051772</td>\n",
       "      <td>0.945538</td>\n",
       "      <td>0.002690</td>\n",
       "    </tr>\n",
       "    <tr>\n",
       "      <th>4</th>\n",
       "      <td>I still can't get over #oomf Avi's \\ud83d\\ude0d</td>\n",
       "      <td>0</td>\n",
       "      <td>2</td>\n",
       "      <td>0.066876</td>\n",
       "      <td>0.360180</td>\n",
       "      <td>0.572944</td>\n",
       "    </tr>\n",
       "    <tr>\n",
       "      <th>...</th>\n",
       "      <td>...</td>\n",
       "      <td>...</td>\n",
       "      <td>...</td>\n",
       "      <td>...</td>\n",
       "      <td>...</td>\n",
       "      <td>...</td>\n",
       "    </tr>\n",
       "    <tr>\n",
       "      <th>1995</th>\n",
       "      <td>@Rello_Lee everybody that watched that game Wi...</td>\n",
       "      <td>1</td>\n",
       "      <td>2</td>\n",
       "      <td>0.072173</td>\n",
       "      <td>0.295577</td>\n",
       "      <td>0.632250</td>\n",
       "    </tr>\n",
       "    <tr>\n",
       "      <th>1996</th>\n",
       "      <td>The power of the STACHE!</td>\n",
       "      <td>1</td>\n",
       "      <td>1</td>\n",
       "      <td>0.100578</td>\n",
       "      <td>0.500908</td>\n",
       "      <td>0.398514</td>\n",
       "    </tr>\n",
       "    <tr>\n",
       "      <th>1997</th>\n",
       "      <td>It's crazy to think that you were someone's mi...</td>\n",
       "      <td>1</td>\n",
       "      <td>2</td>\n",
       "      <td>0.081651</td>\n",
       "      <td>0.332781</td>\n",
       "      <td>0.585568</td>\n",
       "    </tr>\n",
       "    <tr>\n",
       "      <th>1998</th>\n",
       "      <td>I feel so much better about life when my hair ...</td>\n",
       "      <td>1</td>\n",
       "      <td>2</td>\n",
       "      <td>0.365087</td>\n",
       "      <td>0.146869</td>\n",
       "      <td>0.488044</td>\n",
       "    </tr>\n",
       "    <tr>\n",
       "      <th>1999</th>\n",
       "      <td>@callieegurski @bran_mor21 @ethangurski @gursk...</td>\n",
       "      <td>1</td>\n",
       "      <td>2</td>\n",
       "      <td>0.214583</td>\n",
       "      <td>0.238799</td>\n",
       "      <td>0.546618</td>\n",
       "    </tr>\n",
       "  </tbody>\n",
       "</table>\n",
       "<p>2000 rows × 6 columns</p>\n",
       "</div>"
      ],
      "text/plain": [
       "                                                  tweet  class  predLabel  \\\n",
       "0                                no Goodmorning text !!      0          1   \n",
       "1     Waffle House bout to grub \\ud83d\\ude0b\\ud83d\\u...      0          2   \n",
       "2                       @motionlessinwim Damn straight.      0          1   \n",
       "3                Can't trust these bitches \\ud83d\\ude45      0          1   \n",
       "4       I still can't get over #oomf Avi's \\ud83d\\ude0d      0          2   \n",
       "...                                                 ...    ...        ...   \n",
       "1995  @Rello_Lee everybody that watched that game Wi...      1          2   \n",
       "1996                           The power of the STACHE!      1          1   \n",
       "1997  It's crazy to think that you were someone's mi...      1          2   \n",
       "1998  I feel so much better about life when my hair ...      1          2   \n",
       "1999  @callieegurski @bran_mor21 @ethangurski @gursk...      1          2   \n",
       "\n",
       "             0         1         2  \n",
       "0     0.103642  0.631815  0.264543  \n",
       "1     0.062526  0.278881  0.658594  \n",
       "2     0.276229  0.534512  0.189259  \n",
       "3     0.051772  0.945538  0.002690  \n",
       "4     0.066876  0.360180  0.572944  \n",
       "...        ...       ...       ...  \n",
       "1995  0.072173  0.295577  0.632250  \n",
       "1996  0.100578  0.500908  0.398514  \n",
       "1997  0.081651  0.332781  0.585568  \n",
       "1998  0.365087  0.146869  0.488044  \n",
       "1999  0.214583  0.238799  0.546618  \n",
       "\n",
       "[2000 rows x 6 columns]"
      ]
     },
     "execution_count": 60,
     "metadata": {},
     "output_type": "execute_result"
    }
   ],
   "source": [
    "vectorizer = preprocessingResult['vectorizer']\n",
    "model = modelResult['model']\n",
    "\n",
    "Mt = process.vectorize(vectorizer, testTweet['tweet'])\n",
    "\n",
    "predictionResult = model.predict(Mt)\n",
    "predictionProbability = model.predict_proba(Mt)\n",
    "\n",
    "resultTable = pd.concat([testTweet, \n",
    "                         \n",
    "                         pd.DataFrame(predictionResult, columns=['predLabel']), \n",
    "                         \n",
    "                         pd.DataFrame({ x: [predictionProbability[i][x] for i in range(len(predictionProbability)) ] for x in range(len(predictionProbability[0])) })], \n",
    "                        \n",
    "                        axis=1)\n",
    "\n",
    "resultTable"
   ]
  },
  {
   "cell_type": "markdown",
   "metadata": {},
   "source": [
    "### 5-3. Post process the prediction result for mitigating bias (Task 3)\n",
    "\n",
    "\\*\\*\\* **Please proceed until step 7-2 if you haven't. Then come back to this step. You can simply skip this section to understand the overall procedure** \\*\\*\\*\n",
    "\n",
    "Now we are going to implement the bias mitigation technique called Reject Option based Classification. Given $\\theta$=0.6, overwrites the assignment if the prediction result is under the critical region."
   ]
  },
  {
   "cell_type": "code",
   "execution_count": 95,
   "metadata": {
    "scrolled": true
   },
   "outputs": [
    {
     "name": "stderr",
     "output_type": "stream",
     "text": [
      "/home/ubuntu/anaconda3/envs/jupyterhub_prime/lib/python3.7/site-packages/ipykernel_launcher.py:53: SettingWithCopyWarning: \n",
      "A value is trying to be set on a copy of a slice from a DataFrame.\n",
      "Try using .loc[row_indexer,col_indexer] = value instead\n",
      "\n",
      "See the caveats in the documentation: https://pandas.pydata.org/pandas-docs/stable/user_guide/indexing.html#returning-a-view-versus-a-copy\n",
      "/home/ubuntu/anaconda3/envs/jupyterhub_prime/lib/python3.7/site-packages/ipykernel_launcher.py:54: SettingWithCopyWarning: \n",
      "A value is trying to be set on a copy of a slice from a DataFrame.\n",
      "Try using .loc[row_indexer,col_indexer] = value instead\n",
      "\n",
      "See the caveats in the documentation: https://pandas.pydata.org/pandas-docs/stable/user_guide/indexing.html#returning-a-view-versus-a-copy\n"
     ]
    },
    {
     "data": {
      "text/html": [
       "<div>\n",
       "<style scoped>\n",
       "    .dataframe tbody tr th:only-of-type {\n",
       "        vertical-align: middle;\n",
       "    }\n",
       "\n",
       "    .dataframe tbody tr th {\n",
       "        vertical-align: top;\n",
       "    }\n",
       "\n",
       "    .dataframe thead th {\n",
       "        text-align: right;\n",
       "    }\n",
       "</style>\n",
       "<table border=\"1\" class=\"dataframe\">\n",
       "  <thead>\n",
       "    <tr style=\"text-align: right;\">\n",
       "      <th></th>\n",
       "      <th>tweet</th>\n",
       "      <th>class</th>\n",
       "      <th>predLabel</th>\n",
       "      <th>0</th>\n",
       "      <th>1</th>\n",
       "      <th>2</th>\n",
       "    </tr>\n",
       "  </thead>\n",
       "  <tbody>\n",
       "    <tr>\n",
       "      <th>0</th>\n",
       "      <td>no Goodmorning text !!</td>\n",
       "      <td>0</td>\n",
       "      <td>1</td>\n",
       "      <td>0.103642</td>\n",
       "      <td>0.631815</td>\n",
       "      <td>0.264543</td>\n",
       "    </tr>\n",
       "    <tr>\n",
       "      <th>1</th>\n",
       "      <td>Waffle House bout to grub \\ud83d\\ude0b\\ud83d\\u...</td>\n",
       "      <td>0</td>\n",
       "      <td>2</td>\n",
       "      <td>0.062526</td>\n",
       "      <td>0.278881</td>\n",
       "      <td>0.658594</td>\n",
       "    </tr>\n",
       "    <tr>\n",
       "      <th>2</th>\n",
       "      <td>@motionlessinwim Damn straight.</td>\n",
       "      <td>0</td>\n",
       "      <td>1</td>\n",
       "      <td>0.276229</td>\n",
       "      <td>0.534512</td>\n",
       "      <td>0.189259</td>\n",
       "    </tr>\n",
       "    <tr>\n",
       "      <th>3</th>\n",
       "      <td>Can't trust these bitches \\ud83d\\ude45</td>\n",
       "      <td>0</td>\n",
       "      <td>1</td>\n",
       "      <td>0.051772</td>\n",
       "      <td>0.945538</td>\n",
       "      <td>0.002690</td>\n",
       "    </tr>\n",
       "    <tr>\n",
       "      <th>4</th>\n",
       "      <td>I still can't get over #oomf Avi's \\ud83d\\ude0d</td>\n",
       "      <td>0</td>\n",
       "      <td>2</td>\n",
       "      <td>0.066876</td>\n",
       "      <td>0.360180</td>\n",
       "      <td>0.572944</td>\n",
       "    </tr>\n",
       "    <tr>\n",
       "      <th>...</th>\n",
       "      <td>...</td>\n",
       "      <td>...</td>\n",
       "      <td>...</td>\n",
       "      <td>...</td>\n",
       "      <td>...</td>\n",
       "      <td>...</td>\n",
       "    </tr>\n",
       "    <tr>\n",
       "      <th>1995</th>\n",
       "      <td>@Rello_Lee everybody that watched that game Wi...</td>\n",
       "      <td>1</td>\n",
       "      <td>2</td>\n",
       "      <td>0.072173</td>\n",
       "      <td>0.295577</td>\n",
       "      <td>0.632250</td>\n",
       "    </tr>\n",
       "    <tr>\n",
       "      <th>1996</th>\n",
       "      <td>The power of the STACHE!</td>\n",
       "      <td>1</td>\n",
       "      <td>1</td>\n",
       "      <td>0.100578</td>\n",
       "      <td>0.500908</td>\n",
       "      <td>0.398514</td>\n",
       "    </tr>\n",
       "    <tr>\n",
       "      <th>1997</th>\n",
       "      <td>It's crazy to think that you were someone's mi...</td>\n",
       "      <td>1</td>\n",
       "      <td>2</td>\n",
       "      <td>0.081651</td>\n",
       "      <td>0.332781</td>\n",
       "      <td>0.585568</td>\n",
       "    </tr>\n",
       "    <tr>\n",
       "      <th>1998</th>\n",
       "      <td>I feel so much better about life when my hair ...</td>\n",
       "      <td>1</td>\n",
       "      <td>1</td>\n",
       "      <td>0.365087</td>\n",
       "      <td>0.146869</td>\n",
       "      <td>0.488044</td>\n",
       "    </tr>\n",
       "    <tr>\n",
       "      <th>1999</th>\n",
       "      <td>@callieegurski @bran_mor21 @ethangurski @gursk...</td>\n",
       "      <td>1</td>\n",
       "      <td>2</td>\n",
       "      <td>0.214583</td>\n",
       "      <td>0.238799</td>\n",
       "      <td>0.546618</td>\n",
       "    </tr>\n",
       "  </tbody>\n",
       "</table>\n",
       "<p>2000 rows × 6 columns</p>\n",
       "</div>"
      ],
      "text/plain": [
       "                                                  tweet  class  predLabel  \\\n",
       "0                                no Goodmorning text !!      0          1   \n",
       "1     Waffle House bout to grub \\ud83d\\ude0b\\ud83d\\u...      0          2   \n",
       "2                       @motionlessinwim Damn straight.      0          1   \n",
       "3                Can't trust these bitches \\ud83d\\ude45      0          1   \n",
       "4       I still can't get over #oomf Avi's \\ud83d\\ude0d      0          2   \n",
       "...                                                 ...    ...        ...   \n",
       "1995  @Rello_Lee everybody that watched that game Wi...      1          2   \n",
       "1996                           The power of the STACHE!      1          1   \n",
       "1997  It's crazy to think that you were someone's mi...      1          2   \n",
       "1998  I feel so much better about life when my hair ...      1          1   \n",
       "1999  @callieegurski @bran_mor21 @ethangurski @gursk...      1          2   \n",
       "\n",
       "             0         1         2  \n",
       "0     0.103642  0.631815  0.264543  \n",
       "1     0.062526  0.278881  0.658594  \n",
       "2     0.276229  0.534512  0.189259  \n",
       "3     0.051772  0.945538  0.002690  \n",
       "4     0.066876  0.360180  0.572944  \n",
       "...        ...       ...       ...  \n",
       "1995  0.072173  0.295577  0.632250  \n",
       "1996  0.100578  0.500908  0.398514  \n",
       "1997  0.081651  0.332781  0.585568  \n",
       "1998  0.365087  0.146869  0.488044  \n",
       "1999  0.214583  0.238799  0.546618  \n",
       "\n",
       "[2000 rows x 6 columns]"
      ]
     },
     "execution_count": 95,
     "metadata": {},
     "output_type": "execute_result"
    }
   ],
   "source": [
    "def rejectOptionBasedClassification(resultTable, theta, majorClass, majorLabel) :\n",
    "    returnValue = resultTable\n",
    "    \n",
    "    ### Answer\n",
    "    \n",
    "    majorClassMatrix = resultTable.loc[resultTable['class'] == majorClass]\n",
    "    majorPredResult = []\n",
    "    \n",
    "    notMajorClassMatrix = resultTable.loc[resultTable['class'] != majorClass]\n",
    "    notMajorPredResult = []\n",
    "\n",
    "    ##### for major class. i.e. AAE\n",
    "    \n",
    "    for (idx, line) in majorClassMatrix.iterrows() :\n",
    "        target = ''\n",
    "        \n",
    "        labelList = [ line[x] for x in range(len(datasetInfo['label'])) ]\n",
    "        \n",
    "        maxProb = max(labelList)\n",
    "        maxLabelIndex = labelList.index(maxProb)\n",
    "        \n",
    "        if max(maxProb, 1-maxProb) < theta :\n",
    "            # uncertain\n",
    "            if maxLabelIndex == majorLabel :\n",
    "                target = labelList.index(sorted(labelList, reverse=True)[1])\n",
    "            else :\n",
    "                target = maxLabelIndex\n",
    "        else :\n",
    "            # certain\n",
    "            target = maxLabelIndex\n",
    "            \n",
    "        majorPredResult.append(target)\n",
    "\n",
    "    ##### for not major class. i.e. SAE\n",
    "    \n",
    "    for (idx, line) in notMajorClassMatrix.iterrows() :\n",
    "        target = ''\n",
    "        \n",
    "        labelList = [ line[x] for x in range(len(datasetInfo['label'])) ]\n",
    "        \n",
    "        maxProb = max(labelList)\n",
    "        maxLabelIndex = labelList.index(maxProb)\n",
    "        \n",
    "        if max(maxProb, 1-maxProb) < theta :\n",
    "            #uncertain\n",
    "            target = majorLabel\n",
    "        else :\n",
    "            # certain\n",
    "            target = maxLabelIndex\n",
    "            \n",
    "        notMajorPredResult.append(target)\n",
    "\n",
    "    majorClassMatrix['predLabel'] = majorPredResult\n",
    "    notMajorClassMatrix['predLabel'] = notMajorPredResult\n",
    "\n",
    "    return pd.concat([majorClassMatrix, notMajorClassMatrix])\n",
    "\n",
    "processedResultTable = rejectOptionBasedClassification(resultTable, 0.52, 0, 1)\n",
    "\n",
    "processedResultTable"
   ]
  },
  {
   "cell_type": "markdown",
   "metadata": {},
   "source": [
    "### 5-4. Measure the score of bias (Task 1)\n",
    "\n",
    "Given the column `class` (that represents the tweet is written in AAE or SAE) and the column `predLabel` (that represents whether the tweet is abusive), we can measure whether model's prediction is biased. There can be multiple ways to compute such bias, and each measure might captures different perspectives on the bias. \n",
    "\n",
    "One of the simple measures of bias is to compare the ratio of predicted labels. In other words, we can compute how much percent each predicted label account for between AAE class and SAE class, and compare the values. For example, let's say our model predicted 1000 AAE tweets and 300 of them were predicted as 'offensive'. The the 'offensive' label account for 30% of the entire prediction (let's say $P(t = 1|AAE) = 0.35$). We do the same calculating for SAE tweets, and we got 100 'offensive' tweets (let's say $P(t = 1|SAE) = 0.12$). In this case, we can say the model is likely to predict AAE tweets more offensive than SAE tweets. Let's see how it goes.\n",
    "\n",
    "Your task is to implement the following function `getBiasScore(predictionResultTable` that computes the ratio between the portion of a label in AAE and that of SAE. i.e. <font size=\"5\"> $\\frac{ P(t=c_i|AAE) }{P(t=c_i|SAE)}$ </font> where $t$ refers to tweets and $c_i$ refers to a label representing abusiveness. Then we can get a value for each label."
   ]
  },
  {
   "cell_type": "code",
   "execution_count": 96,
   "metadata": {},
   "outputs": [
    {
     "name": "stdout",
     "output_type": "stream",
     "text": [
      "       label  p_AAE  p_SAE     ratio\n",
      "0    Hateful    113     40  2.825000\n",
      "1  Offensive    466    451  1.033259\n",
      "2    Neither    421    509  0.827112\n"
     ]
    },
    {
     "data": {
      "text/plain": [
       "<matplotlib.axes._subplots.AxesSubplot at 0x7f456d2caa50>"
      ]
     },
     "execution_count": 96,
     "metadata": {},
     "output_type": "execute_result"
    },
    {
     "data": {
      "image/png": "[encoded data removed]",
      "text/plain": [
       "<Figure size 432x288 with 1 Axes>"
      ]
     },
     "metadata": {
      "needs_background": "light"
     },
     "output_type": "display_data"
    }
   ],
   "source": [
    "def getBiasScore(predictionResultTable) :\n",
    "    # returns values that represent the bias for each label\n",
    "    \n",
    "    returnValue = pd.DataFrame([ [x, 0.1, 0.2, 0.5] for x in datasetInfo['label'] ], columns=['label', 'p_AAE', 'p_SAE', 'ratio'])\n",
    "\n",
    "    # Answer\n",
    "    \n",
    "    returnValue = pd.DataFrame([ [datasetInfo['label'][x], val1, val2, val1/val2] for (x, val1, val2) in \n",
    "                                \n",
    "                                zip(\n",
    "                                    [ x for x in range(len(datasetInfo['label'])) ],\n",
    "                                    [ predictionResultTable.loc[(resultTable['class']==0) & (predictionResultTable['predLabel']==x)].shape[0] for x in range(len(datasetInfo['label'])) ],\n",
    "                                    [ predictionResultTable.loc[(resultTable['class']==1) & (predictionResultTable['predLabel']==x)].shape[0] for x in range(len(datasetInfo['label'])) ]\n",
    "                                )\n",
    "                               ]\n",
    "                              \n",
    "                              , columns=['label', 'p_AAE', 'p_SAE', 'ratio'])\n",
    "    \n",
    "    return returnValue\n",
    "\n",
    "biasScore = getBiasScore(processedResultTable)\n",
    "\n",
    "print(biasScore)\n",
    "\n",
    "# Please refer to the structure of the table shown below. You must meet the structure. \n",
    "# Here, p_SAE means the proportion of tweets written in SAE with a label L. \n",
    "# The sum of (p_SAE_Hateful, p_SAE_Offensive, p_SAE_Neither) should be 1. Same for p_AAE.\n",
    "# The ratio means p_AAE / p_SAE\n",
    "\n",
    "# The following code is to plot a bar graph that shows the result more effectively.\n",
    "\n",
    "AAE_statistics = processedResultTable.loc[processedResultTable['class'] == 0]['predLabel'].value_counts()\n",
    "SAE_statistics = processedResultTable.loc[processedResultTable['class'] == 1]['predLabel'].value_counts()\n",
    "\n",
    "df = pd.DataFrame([ [datasetInfo['label'][x], biasScore['p_AAE'][x], biasScore['p_SAE'][x]] for x in range(len(datasetInfo['label'])) ], \n",
    "                  \n",
    "                  columns=['label', 'AAE', 'SAE'])\n",
    "\n",
    "df.plot(kind='bar', x='label', color=['red', 'blue'], width=0.5, position=0.5)"
   ]
  },
  {
   "cell_type": "markdown",
   "metadata": {},
   "source": [
    "You can figure out that our trained model actually predicts tweets written AAE more hateful and offensive than that of SAE. Then our next question should be the following :\n",
    "\n",
    "* Why does our model have such bias even our training data doesn't have any column on dialects (i.e. whether the tweet is AAE or SAE)?\n",
    "* How to mitigate such bias?\n",
    "\n",
    "We are going to answer these questions."
   ]
  },
  {
   "cell_type": "markdown",
   "metadata": {},
   "source": [
    "\n",
    "## 6. Investigate why such bias happens\n",
    "\n",
    "You can see that the distribution of AAE is highly skewed to the label 'offensive' compared to that of SAE. One of the potential reasons might be that our training dataset is biased. In other words, it could be possible that the training data contains much more AAE tweets with 'offensive' label compared to other labels ('hateful', 'neither').\n",
    "\n",
    "To see if that's the case, we are going to go back to the training dataset and decompose the dataset into two groups: group of AAE tweets and group of SAE groups. Then we are going to plot the label distribution again.\n",
    "\n",
    "As we had no ground truth around whether tweets are written in AAE and SAE, we are going to use a classifier that predicts such dialect. The details are written in [this paper](), and we are going to use the existing code, `dialectPrediction.py`.\n",
    "\n",
    "`dialectPrediction.predict(str.split())` returns four values each of which refers to a probability of being a single dialect, which are African-American, Hispanic, Asian, and White, respectively. We are going to classify a tweet as AAE if the probability of being AA is greater than or equal to $0.5$. Simiarly, we classify a tweet as SAE if that of being White is greater than or equal to $0.5$. Please note that a similar approach of predicting dialects has been taken by [this research]().\n",
    "\n",
    "The following is an example of performing dialect prediction."
   ]
  },
  {
   "cell_type": "code",
   "execution_count": 97,
   "metadata": {},
   "outputs": [
    {
     "data": {
      "text/plain": [
       "array([0.16603718, 0.27450171, 0.22886004, 0.33060107])"
      ]
     },
     "execution_count": 97,
     "metadata": {},
     "output_type": "execute_result"
    }
   ],
   "source": [
    "import twitteraae.code.dialectPrediction as dialectPrediction\n",
    "\n",
    "dialectPrediction.load_model()\n",
    "pred = dialectPrediction.predict(u\"hello there\".split())\n",
    "\n",
    "pred\n",
    "# if pred[0] >= 0.5, then we classify the tweet as AAE\n",
    "# if pred[3] >= 0.5, then we classify the tweet as SAE"
   ]
  },
  {
   "cell_type": "markdown",
   "metadata": {},
   "source": [
    "### 6-1. Decompose the original dataset into AAE and SAE groups\n",
    "\n",
    "In this step, we are going to group the original dataset, which we have used to train a model, into AAE and SAE groups using `dialectPrediction`. We are going to add a new column called `dialect` which consists of AAE, SAE, and Unknown."
   ]
  },
  {
   "cell_type": "code",
   "execution_count": 98,
   "metadata": {},
   "outputs": [
    {
     "data": {
      "text/html": [
       "<div>\n",
       "<style scoped>\n",
       "    .dataframe tbody tr th:only-of-type {\n",
       "        vertical-align: middle;\n",
       "    }\n",
       "\n",
       "    .dataframe tbody tr th {\n",
       "        vertical-align: top;\n",
       "    }\n",
       "\n",
       "    .dataframe thead th {\n",
       "        text-align: right;\n",
       "    }\n",
       "</style>\n",
       "<table border=\"1\" class=\"dataframe\">\n",
       "  <thead>\n",
       "    <tr style=\"text-align: right;\">\n",
       "      <th></th>\n",
       "      <th>class</th>\n",
       "      <th>tweet</th>\n",
       "      <th>dialect</th>\n",
       "    </tr>\n",
       "  </thead>\n",
       "  <tbody>\n",
       "    <tr>\n",
       "      <th>0</th>\n",
       "      <td>2</td>\n",
       "      <td>!!! RT @mayasolovely: As a woman you shouldn't...</td>\n",
       "      <td>Unknown</td>\n",
       "    </tr>\n",
       "    <tr>\n",
       "      <th>1</th>\n",
       "      <td>1</td>\n",
       "      <td>!!!!! RT @mleew17: boy dats cold...tyga dwn ba...</td>\n",
       "      <td>AAE</td>\n",
       "    </tr>\n",
       "    <tr>\n",
       "      <th>2</th>\n",
       "      <td>1</td>\n",
       "      <td>!!!!!!! RT @UrKindOfBrand Dawg!!!! RT @80sbaby...</td>\n",
       "      <td>Unknown</td>\n",
       "    </tr>\n",
       "    <tr>\n",
       "      <th>3</th>\n",
       "      <td>1</td>\n",
       "      <td>!!!!!!!!! RT @C_G_Anderson: @viva_based she lo...</td>\n",
       "      <td>Unknown</td>\n",
       "    </tr>\n",
       "    <tr>\n",
       "      <th>4</th>\n",
       "      <td>1</td>\n",
       "      <td>!!!!!!!!!!!!! RT @ShenikaRoberts: The shit you...</td>\n",
       "      <td>AAE</td>\n",
       "    </tr>\n",
       "    <tr>\n",
       "      <th>...</th>\n",
       "      <td>...</td>\n",
       "      <td>...</td>\n",
       "      <td>...</td>\n",
       "    </tr>\n",
       "    <tr>\n",
       "      <th>24778</th>\n",
       "      <td>1</td>\n",
       "      <td>you's a muthaf***in lie &amp;#8220;@LifeAsKing: @2...</td>\n",
       "      <td>AAE</td>\n",
       "    </tr>\n",
       "    <tr>\n",
       "      <th>24779</th>\n",
       "      <td>2</td>\n",
       "      <td>you've gone and broke the wrong heart baby, an...</td>\n",
       "      <td>SAE</td>\n",
       "    </tr>\n",
       "    <tr>\n",
       "      <th>24780</th>\n",
       "      <td>1</td>\n",
       "      <td>young buck wanna eat!!.. dat nigguh like I ain...</td>\n",
       "      <td>AAE</td>\n",
       "    </tr>\n",
       "    <tr>\n",
       "      <th>24781</th>\n",
       "      <td>1</td>\n",
       "      <td>youu got wild bitches tellin you lies</td>\n",
       "      <td>AAE</td>\n",
       "    </tr>\n",
       "    <tr>\n",
       "      <th>24782</th>\n",
       "      <td>2</td>\n",
       "      <td>~~Ruffled | Ntac Eileen Dahlia - Beautiful col...</td>\n",
       "      <td>Unknown</td>\n",
       "    </tr>\n",
       "  </tbody>\n",
       "</table>\n",
       "<p>24783 rows × 3 columns</p>\n",
       "</div>"
      ],
      "text/plain": [
       "       class                                              tweet  dialect\n",
       "0          2  !!! RT @mayasolovely: As a woman you shouldn't...  Unknown\n",
       "1          1  !!!!! RT @mleew17: boy dats cold...tyga dwn ba...      AAE\n",
       "2          1  !!!!!!! RT @UrKindOfBrand Dawg!!!! RT @80sbaby...  Unknown\n",
       "3          1  !!!!!!!!! RT @C_G_Anderson: @viva_based she lo...  Unknown\n",
       "4          1  !!!!!!!!!!!!! RT @ShenikaRoberts: The shit you...      AAE\n",
       "...      ...                                                ...      ...\n",
       "24778      1  you's a muthaf***in lie &#8220;@LifeAsKing: @2...      AAE\n",
       "24779      2  you've gone and broke the wrong heart baby, an...      SAE\n",
       "24780      1  young buck wanna eat!!.. dat nigguh like I ain...      AAE\n",
       "24781      1              youu got wild bitches tellin you lies      AAE\n",
       "24782      2  ~~Ruffled | Ntac Eileen Dahlia - Beautiful col...  Unknown\n",
       "\n",
       "[24783 rows x 3 columns]"
      ]
     },
     "execution_count": 98,
     "metadata": {},
     "output_type": "execute_result"
    }
   ],
   "source": [
    "\n",
    "originalDataset = formattedData\n",
    "\n",
    "def determineDialect(tweet) :\n",
    "    # returns a label of the dialect prediction\n",
    "    \n",
    "    pred = dialectPrediction.predict(tweet.split())\n",
    "    \n",
    "    if pred is None :\n",
    "        return 'Unknown'\n",
    "    \n",
    "    \n",
    "    if pred[0] >= 0.5 :\n",
    "        return 'AAE'\n",
    "    elif pred[3] >= 0.5 :\n",
    "        return 'SAE'\n",
    "    else:\n",
    "        return 'Unknown'\n",
    "    \n",
    "datasetWithGroups = pd.concat([originalDataset, \n",
    "                               \n",
    "                               pd.DataFrame([ determineDialect(t) for t in formattedData['tweet'] ], columns=['dialect']\n",
    "                               \n",
    "                               )\n",
    "                              ], axis=1)\n",
    "\n",
    "datasetWithGroups"
   ]
  },
  {
   "cell_type": "markdown",
   "metadata": {},
   "source": [
    "Now let's see how the distribution of `class`, a label of abusive language, with respect to `dialect`."
   ]
  },
  {
   "cell_type": "code",
   "execution_count": 99,
   "metadata": {},
   "outputs": [
    {
     "name": "stdout",
     "output_type": "stream",
     "text": [
      "Total number of SAE tweets: 3534\n",
      "Total number of AAE tweets: 8099\n",
      "The ratio between the number of samples: 2.2917374080362194\n"
     ]
    },
    {
     "data": {
      "image/png": "[encoded data removed]",
      "text/plain": [
       "<Figure size 432x288 with 1 Axes>"
      ]
     },
     "metadata": {
      "needs_background": "light"
     },
     "output_type": "display_data"
    }
   ],
   "source": [
    "SAE_dist = datasetWithGroups.loc[datasetWithGroups['dialect'] == 'SAE']['class'].value_counts()\n",
    "AAE_dist = datasetWithGroups.loc[datasetWithGroups['dialect'] == 'AAE']['class'].value_counts()\n",
    "\n",
    "df = pd.DataFrame([ [datasetInfo['label'][x], AAE_dist[x], SAE_dist[x]] for x in range(len(datasetInfo['label'])) ], \n",
    "                  \n",
    "                  columns=['label', 'AAE', 'SAE'])\n",
    "\n",
    "df.plot(kind='bar', x='label', color=['red', 'blue'], width=0.5, position=0.5)\n",
    "\n",
    "print(\"Total number of SAE tweets: {}\".format(sum(SAE_dist)))\n",
    "print(\"Total number of AAE tweets: {}\".format(sum(AAE_dist)))\n",
    "\n",
    "print(\"The ratio between the number of samples: {}\".format((sum(AAE_dist)/sum(SAE_dist))))"
   ]
  },
  {
   "cell_type": "markdown",
   "metadata": {},
   "source": [
    "Above graph shows that (1) the distribution of tweets in the training data is highly skewed to the 'Offensive' label for AAE group and (2) the number of samples of AAE tweets (8099) are 2.3x greater than that of SAE tweets. It motivates us to [undersample]() the AAE tweets with 'Offensive' labels. The portion of undersampling can be varied, but we are going to sample only 50% of AAE tweets with 'Offensive' label."
   ]
  },
  {
   "cell_type": "markdown",
   "metadata": {},
   "source": [
    "## 7. Mitigate the bias\n",
    "\n",
    "With such observation, we are going to mitigate the bias (i.e. we are going to reduce the bias score that we have computed by `getBiasScore`. \n",
    "\n",
    "### 7-1. Undersampling\n",
    "\n",
    "Now, **please go to the step 1-1 to implement the undersampling. After implementing the undersampling, make sure you execute all the process so far again. Then go to the next step.** The next step computes the same distribution as above, but with undersampled dataset.\n"
   ]
  },
  {
   "cell_type": "code",
   "execution_count": 100,
   "metadata": {},
   "outputs": [
    {
     "name": "stdout",
     "output_type": "stream",
     "text": [
      "Total number of SAE tweets: 3534\n",
      "Total number of AAE tweets: 4324\n",
      "The ratio between the number of samples: 1.22354272778721\n"
     ]
    },
    {
     "data": {
      "image/png": "[encoded data removed]",
      "text/plain": [
       "<Figure size 432x288 with 1 Axes>"
      ]
     },
     "metadata": {
      "needs_background": "light"
     },
     "output_type": "display_data"
    }
   ],
   "source": [
    "originalDataset = undersampledData\n",
    "\n",
    "datasetWithGroups = pd.concat([originalDataset, \n",
    "                               \n",
    "                               pd.DataFrame([ determineDialect(t) for t in formattedData['tweet'] ], columns=['dialect']\n",
    "                               \n",
    "                               )\n",
    "                              ], axis=1)\n",
    "\n",
    "SAE_dist = datasetWithGroups.loc[datasetWithGroups['dialect'] == 'SAE']['class'].value_counts()\n",
    "AAE_dist = datasetWithGroups.loc[datasetWithGroups['dialect'] == 'AAE']['class'].value_counts()\n",
    "\n",
    "df = pd.DataFrame([ [datasetInfo['label'][x], AAE_dist[x], SAE_dist[x]] for x in range(len(datasetInfo['label'])) ], \n",
    "                  \n",
    "                  columns=['label', 'AAE', 'SAE'])\n",
    "\n",
    "df.plot(kind='bar', x='label', color=['red', 'blue'], width=0.5, position=0.5)\n",
    "\n",
    "print(\"Total number of SAE tweets: {}\".format(sum(SAE_dist)))\n",
    "print(\"Total number of AAE tweets: {}\".format(sum(AAE_dist)))\n",
    "\n",
    "print(\"The ratio between the number of samples: {}\".format((sum(AAE_dist)/sum(SAE_dist))))"
   ]
  },
  {
   "cell_type": "markdown",
   "metadata": {},
   "source": [
    "We can see that (1) the distribution of AAE tweets becomes less skewed to 'Offensive' label comapred to original dataset and (2) the ratio between the number of AAE tweets and SAE tweets has been reduced. The following is the measure of bias with the undersampled dataset: "
   ]
  },
  {
   "cell_type": "code",
   "execution_count": 101,
   "metadata": {},
   "outputs": [
    {
     "name": "stdout",
     "output_type": "stream",
     "text": [
      "       label  p_AAE  p_SAE     ratio\n",
      "0    Hateful    113     40  2.825000\n",
      "1  Offensive    466    451  1.033259\n",
      "2    Neither    421    509  0.827112\n"
     ]
    },
    {
     "data": {
      "text/plain": [
       "<matplotlib.axes._subplots.AxesSubplot at 0x7f45757756d0>"
      ]
     },
     "execution_count": 101,
     "metadata": {},
     "output_type": "execute_result"
    },
    {
     "data": {
      "image/png": "[encoded data removed]",
      "text/plain": [
       "<Figure size 432x288 with 1 Axes>"
      ]
     },
     "metadata": {
      "needs_background": "light"
     },
     "output_type": "display_data"
    }
   ],
   "source": [
    "### the same code with above\n",
    "\n",
    "biasScore = getBiasScore(processedResultTable)\n",
    "\n",
    "print(biasScore)\n",
    "\n",
    "# Please refer to the structure of the table shown below. You must meet the structure. \n",
    "# Here, p_SAE means the proportion of tweets written in SAE with a label L. \n",
    "# The sum of (p_SAE_Hateful, p_SAE_Offensive, p_SAE_Neither) should be 1. Same for p_AAE.\n",
    "# The ratio means p_AAE / p_SAE\n",
    "\n",
    "# The following code is to plot a bar graph that shows the result more effectively.\n",
    "\n",
    "AAE_statistics = processedResultTable.loc[processedResultTable['class'] == 0]['predLabel'].value_counts()\n",
    "SAE_statistics = processedResultTable.loc[processedResultTable['class'] == 1]['predLabel'].value_counts()\n",
    "\n",
    "df = pd.DataFrame([ [datasetInfo['label'][x], biasScore['p_AAE'][x], biasScore['p_SAE'][x]] for x in range(len(datasetInfo['label'])) ], \n",
    "                  \n",
    "                  columns=['label', 'AAE', 'SAE'])\n",
    "\n",
    "df.plot(kind='bar', x='label', color=['red', 'blue'], width=0.5, position=0.5)"
   ]
  },
  {
   "cell_type": "markdown",
   "metadata": {},
   "source": [
    "You can see that the ratio of \"Offensive\" label has been reduced (originally it was **<font color='red'> XYZ </font>**). Therefore, we can say that our model yields less biased prediction with respect to the \"Offensive\" label. However, you can observe that the ratio of \"Hateful\" label has been increased (originally it was **<font color='red'>XYZ</font>**). You may want to discuss this observation in the discussion."
   ]
  },
  {
   "cell_type": "markdown",
   "metadata": {},
   "source": [
    "### 7-2. Reject Option based Classification [cite]\n",
    "\n",
    "In this step, we are going to implement Reject Option based Classification [cite], which is another technique of mitigating bias. This technique can be applied when model produces probabilities for prediction.\n",
    "\n",
    "Let's say we trained a model, and use it to predict the abusive label of a tweet $t$. Then the model produces a probability for each label $l_i$, meaning the probability of being assigned to the label $l_i$ for the tweet $t$. Normally, we find the maximum probability across the labels and assign the label as a prediction result.\n",
    "\n",
    "The insight of this bias mitigation technique is that even if we assign the label with the highest probability, it can be still uncertain. For example, let's say we have two labels $l_1$ and $l_2$, and our model produces probabilities $p_1$=0.55 and $p_2$=0.45 for a tweet $t$. Even if we can assign the label $l_1$ in this case, we can say the model is not really sure about the assignment because the probability (i.e. $p_1$) is relatively low.\n",
    "\n",
    "The technique introduces $\\theta$, a threshold to <i>defer</i> the label assignment. If $max(P(t=c_i), 1-P(t=c_i)) < \\theta$ where $0.5 < \\theta < 1$, we defer the assignment at the moment, meaning we do not always assign the label with the highest probability. We refer to such region as <i> critical region </i>. \n",
    "\n",
    "For all the deferred assignment, we assign a label in a way that it mitigates the bias. For example, in our case, if the model is not sure (i.e. the condition for deffering the decision has been satisfied) for an AAE tweet, we do not assign \"Offensive\" even the probability of being \"Offensive\" is the highest. In the case where \"Offensive\" is the highest, we simply assign the label with second highest probability. For the deffered assignment for a SAE tweet, we assign \"Offensive\" regardless of the probabilities. By having different assignment methods for different groups, we can reduce the bias.\n",
    "\n",
    "The mathematical interpretation of the mitigation method is to give different costs when misprediction happens. For example, let's say our model predicted a label for an AAE tweet. If we have large $\\theta$ in this case, it means we are highly likely to defer the assignment. In other words, we are going to give the \"Offensive\" label to the AAE tweet only when we are very certain. Therefore, we can interpret it in a way that the cost of misprediction becomes high especially for the case where the ground truth was not \"Offensive\" but our prediction is \"Offensive\". Note that it is relatively okay to mispredict an AAE tweet with the ground truth \"Offensive\" because we need to reduce the number of \"Offensive\" judges to mitigate bias. These two different misprediction have different costs. More detailed mathematical formulation can be found in [this paper]().\n",
    "\n",
    "We are going to use $\\theta=0.52$ in this assignment. You may want to experiment different values of $\\theta$. Please go to the step 5-3. "
   ]
  },
  {
   "cell_type": "markdown",
   "metadata": {},
   "source": [
    "  "
   ]
  },
  {
   "cell_type": "markdown",
   "metadata": {},
   "source": [
    "Now, let's compute the bias score again."
   ]
  },
  {
   "cell_type": "code",
   "execution_count": 102,
   "metadata": {},
   "outputs": [
    {
     "name": "stdout",
     "output_type": "stream",
     "text": [
      "       label  p_AAE  p_SAE     ratio\n",
      "0    Hateful    113     40  2.825000\n",
      "1  Offensive    466    451  1.033259\n",
      "2    Neither    421    509  0.827112\n"
     ]
    },
    {
     "data": {
      "text/plain": [
       "<matplotlib.axes._subplots.AxesSubplot at 0x7f45759dc6d0>"
      ]
     },
     "execution_count": 102,
     "metadata": {},
     "output_type": "execute_result"
    },
    {
     "data": {
      "image/png": "[encoded data removed]",
      "text/plain": [
       "<Figure size 432x288 with 1 Axes>"
      ]
     },
     "metadata": {
      "needs_background": "light"
     },
     "output_type": "display_data"
    }
   ],
   "source": [
    "### the same code with above\n",
    "\n",
    "biasScore = getBiasScore(processedResultTable)\n",
    "\n",
    "print(biasScore)\n",
    "\n",
    "# Please refer to the structure of the table shown below. You must meet the structure. \n",
    "# Here, p_SAE means the proportion of tweets written in SAE with a label L. \n",
    "# The sum of (p_SAE_Hateful, p_SAE_Offensive, p_SAE_Neither) should be 1. Same for p_AAE.\n",
    "# The ratio means p_AAE / p_SAE\n",
    "\n",
    "# The following code is to plot a bar graph that shows the result more effectively.\n",
    "\n",
    "AAE_statistics = processedResultTable.loc[processedResultTable['class'] == 0]['predLabel'].value_counts()\n",
    "SAE_statistics = processedResultTable.loc[processedResultTable['class'] == 1]['predLabel'].value_counts()\n",
    "\n",
    "df = pd.DataFrame([ [datasetInfo['label'][x], biasScore['p_AAE'][x], biasScore['p_SAE'][x]] for x in range(len(datasetInfo['label'])) ], \n",
    "                  \n",
    "                  columns=['label', 'AAE', 'SAE'])\n",
    "\n",
    "df.plot(kind='bar', x='label', color=['red', 'blue'], width=0.5, position=0.5)"
   ]
  },
  {
   "cell_type": "markdown",
   "metadata": {},
   "source": []
  },
  {
   "cell_type": "code",
   "execution_count": null,
   "metadata": {},
   "outputs": [],
   "source": []
  }
 ],
 "metadata": {
  "kernelspec": {
   "display_name": "Python 3",
   "language": "python",
   "name": "python3"
  },
  "language_info": {
   "codemirror_mode": {
    "name": "ipython",
    "version": 3
   },
   "file_extension": ".py",
   "mimetype": "text/x-python",
   "name": "python",
   "nbconvert_exporter": "python",
   "pygments_lexer": "ipython3",
   "version": "3.7.7"
  }
 },
 "nbformat": 4,
 "nbformat_minor": 4
}
